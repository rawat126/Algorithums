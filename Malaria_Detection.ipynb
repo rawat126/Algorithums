{
  "nbformat": 4,
  "nbformat_minor": 0,
  "metadata": {
    "colab": {
      "name": "Untitled1.ipynb",
      "provenance": [],
      "collapsed_sections": [],
      "machine_shape": "hm",
      "authorship_tag": "ABX9TyMgqqiEPRUpDcsIZOy+Gk1B",
      "include_colab_link": true
    },
    "kernelspec": {
      "name": "python3",
      "display_name": "Python 3"
    },
    "accelerator": "GPU"
  },
  "cells": [
    {
      "cell_type": "markdown",
      "metadata": {
        "id": "view-in-github",
        "colab_type": "text"
      },
      "source": [
        "<a href=\"https://colab.research.google.com/github/rawat126/Algorithums/blob/master/Malaria_Detection.ipynb\" target=\"_parent\"><img src=\"https://colab.research.google.com/assets/colab-badge.svg\" alt=\"Open In Colab\"/></a>"
      ]
    },
    {
      "cell_type": "markdown",
      "metadata": {
        "id": "RRzVq2nOHZuK",
        "colab_type": "text"
      },
      "source": [
        "#Malaria Diagnosis Using Deep Learning"
      ]
    },
    {
      "cell_type": "markdown",
      "metadata": {
        "id": "kI44XBHdIcBd",
        "colab_type": "text"
      },
      "source": [
        "#Approch For Data Collection"
      ]
    },
    {
      "cell_type": "markdown",
      "metadata": {
        "id": "7kGGZpoeJTBl",
        "colab_type": "text"
      },
      "source": [
        "These Are The major steps to collect Data for Malaria Blood Cells :\n",
        "![alt text](https://miro.medium.com/proxy/1*VWxRC2BePykk3xVVEDzbdg.png)\n",
        "\n",
        "\n"
      ]
    },
    {
      "cell_type": "markdown",
      "metadata": {
        "id": "UqPkhB0gKXOv",
        "colab_type": "text"
      },
      "source": [
        "Thus, malaria detection is definitely an intensive manual process which can perhaps be automated using deep learning which forms the basis of this article.\n",
        "The Original Approch used in this Project is used from [link text](https://arxiv.org/ftp/arxiv/papers/1907/1907.10418.pdf),2019"
      ]
    },
    {
      "cell_type": "markdown",
      "metadata": {
        "id": "eltL2s3KKipc",
        "colab_type": "text"
      },
      "source": [
        "#Importing Necessary Libraries"
      ]
    },
    {
      "cell_type": "code",
      "metadata": {
        "id": "sFsPxfageiX8",
        "colab_type": "code",
        "outputId": "ffceeb6b-c151-48b8-e73c-91e24d490816",
        "colab": {
          "base_uri": "https://localhost:8080/",
          "height": 69
        }
      },
      "source": [
        "import numpy as np\n",
        "from sklearn.metrics import confusion_matrix\n",
        "from sklearn.svm import SVC as SVM_classifier\n",
        "import matplotlib.pyplot as plt\n",
        "import seaborn as sns\n",
        "import pandas as pd\n",
        "from sklearn.model_selection import train_test_split\n",
        "import cv2\n",
        "import tensorflow as tf\n",
        "from google.colab import drive\n",
        "import os\n",
        "from sklearn import linear_model\n",
        "import random\n",
        "from sklearn.preprocessing import OneHotEncoder\n",
        "from scipy.ndimage import gaussian_filter\n",
        "import tensorflow.keras as keras\n",
        "from sklearn.metrics import plot_confusion_matrix\n",
        "from sklearn.metrics import roc_auc_score\n",
        "import imutils\n",
        "import pickle as pk\n",
        "from sklearn.metrics import roc_curve\n",
        "\n",
        "print('tensorflow : ',tf.__version__)\n",
        "print('Open CV : ',cv2.__version__)\n",
        "print('numpy : ',np.__version__)\n"
      ],
      "execution_count": 66,
      "outputs": [
        {
          "output_type": "stream",
          "text": [
            "tensorflow :  2.2.0\n",
            "Open CV :  4.1.2\n",
            "numpy :  1.18.4\n"
          ],
          "name": "stdout"
        }
      ]
    },
    {
      "cell_type": "code",
      "metadata": {
        "id": "ueVruvZjZKJ7",
        "colab_type": "code",
        "outputId": "b11b3285-aa9c-4e4d-bfd3-11940955c612",
        "colab": {
          "base_uri": "https://localhost:8080/",
          "height": 124
        }
      },
      "source": [
        "drive.mount('/content/drive')"
      ],
      "execution_count": 3,
      "outputs": [
        {
          "output_type": "stream",
          "text": [
            "Go to this URL in a browser: https://accounts.google.com/o/oauth2/auth?client_id=947318989803-6bn6qk8qdgf4n4g3pfee6491hc0brc4i.apps.googleusercontent.com&redirect_uri=urn%3aietf%3awg%3aoauth%3a2.0%3aoob&response_type=code&scope=email%20https%3a%2f%2fwww.googleapis.com%2fauth%2fdocs.test%20https%3a%2f%2fwww.googleapis.com%2fauth%2fdrive%20https%3a%2f%2fwww.googleapis.com%2fauth%2fdrive.photos.readonly%20https%3a%2f%2fwww.googleapis.com%2fauth%2fpeopleapi.readonly\n",
            "\n",
            "Enter your authorization code:\n",
            "··········\n",
            "Mounted at /content/drive\n"
          ],
          "name": "stdout"
        }
      ]
    },
    {
      "cell_type": "markdown",
      "metadata": {
        "id": "FkPl_TbeKo5t",
        "colab_type": "text"
      },
      "source": [
        "# Data Collection"
      ]
    },
    {
      "cell_type": "markdown",
      "metadata": {
        "id": "tGZAyjcmK1I2",
        "colab_type": "text"
      },
      "source": [
        "Initializing some required variables and Data-types for necessary use "
      ]
    },
    {
      "cell_type": "code",
      "metadata": {
        "id": "yOUoKylFMMfC",
        "colab_type": "code",
        "outputId": "86ce5723-a76b-4853-8428-1114fe321678",
        "colab": {
          "base_uri": "https://localhost:8080/",
          "height": 52
        }
      },
      "source": [
        "# different directories of Data\n",
        "dir_infected = '/content/drive/My Drive/malaria/Parasitized/'\n",
        "dir_uninfected = '/content/drive/My Drive/malaria/Uninfected/'\n",
        "\n",
        "total_infected = len(os.listdir(dir_infected))\n",
        "total_uninfected = len(os.listdir(dir_uninfected))\n",
        "\n",
        "# for infected one's\n",
        "infected_data = []\n",
        "uninfected_data = []\n",
        "\n",
        "# for Healthy control\n",
        "infected_labels = []\n",
        "uninfected_labels = []\n",
        "\n",
        "print('Total Data of Paracitized Patients : ',total_infected)\n",
        "print('Total Data of Uninfected Patients : ',total_uninfected)"
      ],
      "execution_count": 24,
      "outputs": [
        {
          "output_type": "stream",
          "text": [
            "Total Data of Paracitized Patients :  14042\n",
            "Total Data of Uninfected Patients :  13805\n"
          ],
          "name": "stdout"
        }
      ]
    },
    {
      "cell_type": "markdown",
      "metadata": {
        "id": "ibfqDbkYLm0q",
        "colab_type": "text"
      },
      "source": [
        "Here we Start Collecting Data from sources as the above block describes the total size of data, It requires atleast 6 hours to complete loading.The Images here are of different sizes but resized to 100x100  "
      ]
    },
    {
      "cell_type": "code",
      "metadata": {
        "id": "PXYZ9rn16MeM",
        "colab_type": "code",
        "outputId": "1b0a3645-12da-4d51-8b3d-fd8868e74190",
        "colab": {
          "base_uri": "https://localhost:8080/",
          "height": 1000
        }
      },
      "source": [
        "# if any Data point is unable to load comes under false_counts\n",
        "fault_counts = 0\n",
        "\n",
        "# collection Infected Data from Data Source \n",
        "for ite,i in enumerate(os.listdir(dir_infected)):\n",
        "    try : \n",
        "         \n",
        "        img = cv2.imread(dir_infected+i)\n",
        "        #img = cv2.cvtColor(img,cv2.COLOR_BGR2GRAY)\n",
        "        img = cv2.resize(img,(100,100))\n",
        "        infected_data.append(img)\n",
        "        infected_labels.append('infected')\n",
        "\n",
        "        # Measuring the working\n",
        "        if ite%50 == 0:\n",
        "            print(ite,' points Done...')  \n",
        "\n",
        "    except ValueError:\n",
        "        faults_count = faults_count+1\n",
        "        pass \n",
        "\n",
        "# collection Un Infected Data from Data Source \n",
        "for ite,i in enumerate(os.listdir(dir_uninfected)):\n",
        "    try: \n",
        "        img = cv2.imread(dir_uninfected+i)\n",
        "        #img = cv2.cvtColor(img,cv2.COLOR_BGR2GRAY)\n",
        "        img = cv2.resize(img,(100,100))\n",
        "        uninfected_data.append(img)\n",
        "        uninfected_labels.append('uninfected')\n",
        "\n",
        "        # Measuring the working\n",
        "        if ite%50 == 0:\n",
        "            print(ite,' points Done...')   \n",
        "\n",
        "    except ValueError:\n",
        "        faults_count = faults_count+1\n",
        "        pass\n",
        "\n",
        "print('Data Prepropecessed Sucessfully....')\n",
        "print()\n",
        "print('Data Size Infected : ',len(infected_labels))\n",
        "print('Data Size Un-Infected : ',len(uninfected_labels))\n",
        "print('Missed Data : ',fault_counts)\n",
        "print('Image Size',infected_data[0].shape)"
      ],
      "execution_count": 0,
      "outputs": [
        {
          "output_type": "stream",
          "text": [
            "0  points Done...\n",
            "50  points Done...\n",
            "100  points Done...\n",
            "150  points Done...\n",
            "200  points Done...\n",
            "250  points Done...\n",
            "300  points Done...\n",
            "350  points Done...\n",
            "400  points Done...\n",
            "450  points Done...\n",
            "500  points Done...\n",
            "550  points Done...\n",
            "600  points Done...\n",
            "650  points Done...\n",
            "700  points Done...\n",
            "750  points Done...\n",
            "800  points Done...\n",
            "850  points Done...\n",
            "900  points Done...\n",
            "950  points Done...\n",
            "1000  points Done...\n",
            "1050  points Done...\n",
            "1100  points Done...\n",
            "1150  points Done...\n",
            "1200  points Done...\n",
            "1250  points Done...\n",
            "1300  points Done...\n",
            "1350  points Done...\n",
            "1400  points Done...\n",
            "1450  points Done...\n",
            "1500  points Done...\n",
            "1550  points Done...\n",
            "1600  points Done...\n",
            "1650  points Done...\n",
            "1700  points Done...\n",
            "1750  points Done...\n",
            "1800  points Done...\n",
            "1850  points Done...\n",
            "1900  points Done...\n",
            "1950  points Done...\n",
            "2000  points Done...\n",
            "2050  points Done...\n",
            "2100  points Done...\n",
            "2150  points Done...\n",
            "2200  points Done...\n",
            "2250  points Done...\n",
            "2300  points Done...\n",
            "2350  points Done...\n",
            "2400  points Done...\n",
            "2450  points Done...\n",
            "2500  points Done...\n",
            "2550  points Done...\n",
            "2600  points Done...\n",
            "2650  points Done...\n",
            "2700  points Done...\n",
            "2750  points Done...\n",
            "2800  points Done...\n",
            "2850  points Done...\n",
            "2900  points Done...\n",
            "2950  points Done...\n",
            "3000  points Done...\n",
            "3050  points Done...\n",
            "3100  points Done...\n",
            "3150  points Done...\n",
            "3200  points Done...\n",
            "3250  points Done...\n",
            "3300  points Done...\n",
            "3350  points Done...\n",
            "3400  points Done...\n",
            "3450  points Done...\n",
            "3500  points Done...\n",
            "3550  points Done...\n",
            "3600  points Done...\n",
            "3650  points Done...\n",
            "3700  points Done...\n",
            "3750  points Done...\n",
            "3800  points Done...\n",
            "3850  points Done...\n",
            "3900  points Done...\n",
            "3950  points Done...\n",
            "4000  points Done...\n",
            "4050  points Done...\n",
            "4100  points Done...\n",
            "4150  points Done...\n",
            "4200  points Done...\n",
            "4250  points Done...\n",
            "4300  points Done...\n",
            "4350  points Done...\n",
            "4400  points Done...\n",
            "4450  points Done...\n",
            "4500  points Done...\n",
            "4550  points Done...\n",
            "4600  points Done...\n",
            "4650  points Done...\n",
            "4700  points Done...\n",
            "4750  points Done...\n",
            "4800  points Done...\n",
            "4850  points Done...\n",
            "4900  points Done...\n",
            "4950  points Done...\n",
            "5000  points Done...\n",
            "5050  points Done...\n",
            "5100  points Done...\n",
            "5150  points Done...\n",
            "5200  points Done...\n",
            "5250  points Done...\n",
            "5300  points Done...\n",
            "5350  points Done...\n",
            "5400  points Done...\n",
            "5450  points Done...\n",
            "5500  points Done...\n",
            "5550  points Done...\n",
            "5600  points Done...\n",
            "5650  points Done...\n",
            "5700  points Done...\n",
            "5750  points Done...\n",
            "5800  points Done...\n",
            "5850  points Done...\n",
            "5900  points Done...\n",
            "5950  points Done...\n",
            "6000  points Done...\n",
            "6050  points Done...\n",
            "6100  points Done...\n",
            "6150  points Done...\n",
            "6200  points Done...\n",
            "6250  points Done...\n",
            "6300  points Done...\n",
            "6350  points Done...\n",
            "6400  points Done...\n",
            "6450  points Done...\n",
            "6500  points Done...\n",
            "6550  points Done...\n",
            "6600  points Done...\n",
            "6650  points Done...\n",
            "6700  points Done...\n",
            "6750  points Done...\n",
            "6800  points Done...\n",
            "6850  points Done...\n",
            "6900  points Done...\n",
            "6950  points Done...\n",
            "7000  points Done...\n",
            "7050  points Done...\n",
            "7100  points Done...\n",
            "7150  points Done...\n",
            "7200  points Done...\n",
            "7250  points Done...\n",
            "7300  points Done...\n",
            "7350  points Done...\n",
            "7400  points Done...\n",
            "7450  points Done...\n",
            "7500  points Done...\n",
            "7550  points Done...\n",
            "7600  points Done...\n",
            "7650  points Done...\n",
            "7700  points Done...\n",
            "7750  points Done...\n",
            "7800  points Done...\n",
            "7850  points Done...\n",
            "7900  points Done...\n",
            "7950  points Done...\n",
            "8000  points Done...\n",
            "8050  points Done...\n",
            "8100  points Done...\n",
            "8150  points Done...\n",
            "8200  points Done...\n",
            "8250  points Done...\n",
            "8300  points Done...\n",
            "8350  points Done...\n",
            "8400  points Done...\n",
            "8450  points Done...\n",
            "8500  points Done...\n",
            "8550  points Done...\n",
            "8600  points Done...\n",
            "8650  points Done...\n",
            "8700  points Done...\n",
            "8750  points Done...\n",
            "8800  points Done...\n",
            "8850  points Done...\n",
            "8900  points Done...\n",
            "8950  points Done...\n",
            "9000  points Done...\n",
            "9050  points Done...\n",
            "9100  points Done...\n",
            "9150  points Done...\n",
            "9200  points Done...\n",
            "9250  points Done...\n",
            "9300  points Done...\n",
            "9350  points Done...\n",
            "9400  points Done...\n",
            "9450  points Done...\n",
            "9500  points Done...\n",
            "9550  points Done...\n",
            "9600  points Done...\n",
            "9650  points Done...\n",
            "9700  points Done...\n",
            "9750  points Done...\n",
            "9800  points Done...\n",
            "9850  points Done...\n",
            "9900  points Done...\n",
            "9950  points Done...\n",
            "10000  points Done...\n",
            "10050  points Done...\n",
            "10100  points Done...\n",
            "10150  points Done...\n",
            "10200  points Done...\n",
            "10250  points Done...\n",
            "10300  points Done...\n",
            "10350  points Done...\n",
            "10400  points Done...\n",
            "10450  points Done...\n",
            "10500  points Done...\n",
            "10550  points Done...\n",
            "10600  points Done...\n",
            "10650  points Done...\n",
            "10700  points Done...\n",
            "10750  points Done...\n",
            "10800  points Done...\n",
            "10850  points Done...\n",
            "10900  points Done...\n",
            "10950  points Done...\n",
            "11000  points Done...\n",
            "11050  points Done...\n",
            "11100  points Done...\n",
            "11150  points Done...\n",
            "11200  points Done...\n",
            "11250  points Done...\n",
            "11300  points Done...\n",
            "11350  points Done...\n",
            "11400  points Done...\n",
            "11450  points Done...\n",
            "11500  points Done...\n",
            "11550  points Done...\n",
            "11600  points Done...\n",
            "11650  points Done...\n",
            "11700  points Done...\n",
            "11750  points Done...\n",
            "11800  points Done...\n",
            "11850  points Done...\n",
            "11900  points Done...\n",
            "11950  points Done...\n",
            "12000  points Done...\n",
            "12050  points Done...\n",
            "12100  points Done...\n",
            "12150  points Done...\n",
            "12200  points Done...\n",
            "12250  points Done...\n",
            "12300  points Done...\n",
            "12350  points Done...\n",
            "12400  points Done...\n",
            "12450  points Done...\n",
            "12500  points Done...\n",
            "12550  points Done...\n",
            "12600  points Done...\n",
            "12650  points Done...\n",
            "12700  points Done...\n",
            "12750  points Done...\n",
            "12800  points Done...\n",
            "12850  points Done...\n",
            "12900  points Done...\n",
            "12950  points Done...\n",
            "13000  points Done...\n",
            "13050  points Done...\n",
            "13100  points Done...\n",
            "13150  points Done...\n",
            "13200  points Done...\n",
            "13250  points Done...\n",
            "13300  points Done...\n",
            "13350  points Done...\n",
            "13400  points Done...\n",
            "13450  points Done...\n",
            "13500  points Done...\n",
            "13550  points Done...\n",
            "13600  points Done...\n",
            "13650  points Done...\n",
            "13700  points Done...\n",
            "13750  points Done...\n",
            "13800  points Done...\n",
            "13850  points Done...\n",
            "13900  points Done...\n",
            "13950  points Done...\n",
            "14000  points Done...\n",
            "0  points Done...\n",
            "50  points Done...\n",
            "100  points Done...\n",
            "150  points Done...\n",
            "200  points Done...\n",
            "250  points Done...\n",
            "300  points Done...\n",
            "350  points Done...\n",
            "400  points Done...\n",
            "450  points Done...\n",
            "500  points Done...\n",
            "550  points Done...\n",
            "600  points Done...\n",
            "650  points Done...\n",
            "700  points Done...\n",
            "750  points Done...\n",
            "800  points Done...\n",
            "850  points Done...\n",
            "900  points Done...\n",
            "950  points Done...\n",
            "1000  points Done...\n",
            "1050  points Done...\n",
            "1100  points Done...\n",
            "1150  points Done...\n",
            "1200  points Done...\n",
            "1250  points Done...\n",
            "1300  points Done...\n",
            "1350  points Done...\n",
            "1400  points Done...\n",
            "1450  points Done...\n",
            "1500  points Done...\n",
            "1550  points Done...\n",
            "1600  points Done...\n",
            "1650  points Done...\n",
            "1700  points Done...\n",
            "1750  points Done...\n",
            "1800  points Done...\n",
            "1850  points Done...\n",
            "1900  points Done...\n",
            "1950  points Done...\n",
            "2000  points Done...\n",
            "2050  points Done...\n",
            "2100  points Done...\n",
            "2150  points Done...\n",
            "2200  points Done...\n",
            "2250  points Done...\n",
            "2300  points Done...\n",
            "2350  points Done...\n",
            "2400  points Done...\n",
            "2450  points Done...\n",
            "2500  points Done...\n",
            "2550  points Done...\n",
            "2600  points Done...\n",
            "2650  points Done...\n",
            "2700  points Done...\n",
            "2750  points Done...\n",
            "2800  points Done...\n",
            "2850  points Done...\n",
            "2900  points Done...\n",
            "2950  points Done...\n",
            "3000  points Done...\n",
            "3050  points Done...\n",
            "3100  points Done...\n",
            "3150  points Done...\n",
            "3200  points Done...\n",
            "3250  points Done...\n",
            "3300  points Done...\n",
            "3350  points Done...\n",
            "3400  points Done...\n",
            "3450  points Done...\n",
            "3500  points Done...\n",
            "3550  points Done...\n",
            "3600  points Done...\n",
            "3650  points Done...\n",
            "3700  points Done...\n",
            "3750  points Done...\n",
            "3800  points Done...\n",
            "3850  points Done...\n",
            "3900  points Done...\n",
            "3950  points Done...\n",
            "4000  points Done...\n",
            "4050  points Done...\n",
            "4100  points Done...\n",
            "4150  points Done...\n",
            "4200  points Done...\n",
            "4250  points Done...\n",
            "4300  points Done...\n",
            "4350  points Done...\n",
            "4400  points Done...\n",
            "4450  points Done...\n",
            "4500  points Done...\n",
            "4550  points Done...\n",
            "4600  points Done...\n",
            "4650  points Done...\n",
            "4700  points Done...\n",
            "4750  points Done...\n",
            "4800  points Done...\n",
            "4850  points Done...\n",
            "4900  points Done...\n",
            "4950  points Done...\n",
            "5000  points Done...\n",
            "5050  points Done...\n",
            "5100  points Done...\n",
            "5150  points Done...\n",
            "5200  points Done...\n",
            "5250  points Done...\n",
            "5300  points Done...\n",
            "5350  points Done...\n",
            "5400  points Done...\n",
            "5450  points Done...\n",
            "5500  points Done...\n",
            "5550  points Done...\n",
            "5600  points Done...\n",
            "5650  points Done...\n",
            "5700  points Done...\n",
            "5750  points Done...\n",
            "5800  points Done...\n",
            "5850  points Done...\n",
            "5900  points Done...\n",
            "5950  points Done...\n",
            "6000  points Done...\n",
            "6050  points Done...\n",
            "6100  points Done...\n",
            "6150  points Done...\n",
            "6200  points Done...\n",
            "6250  points Done...\n",
            "6300  points Done...\n",
            "6350  points Done...\n",
            "6400  points Done...\n",
            "6450  points Done...\n",
            "6500  points Done...\n",
            "6550  points Done...\n",
            "6600  points Done...\n",
            "6650  points Done...\n",
            "6700  points Done...\n",
            "6750  points Done...\n",
            "6800  points Done...\n",
            "6850  points Done...\n",
            "6900  points Done...\n",
            "6950  points Done...\n",
            "7000  points Done...\n",
            "7050  points Done...\n",
            "7100  points Done...\n",
            "7150  points Done...\n",
            "7200  points Done...\n",
            "7250  points Done...\n",
            "7300  points Done...\n",
            "7350  points Done...\n",
            "7400  points Done...\n",
            "7450  points Done...\n",
            "7500  points Done...\n",
            "7550  points Done...\n",
            "7600  points Done...\n",
            "7650  points Done...\n",
            "7700  points Done...\n",
            "7750  points Done...\n",
            "7800  points Done...\n",
            "7850  points Done...\n",
            "7900  points Done...\n",
            "7950  points Done...\n",
            "8000  points Done...\n",
            "8050  points Done...\n",
            "8100  points Done...\n",
            "8150  points Done...\n",
            "8200  points Done...\n",
            "8250  points Done...\n",
            "8300  points Done...\n",
            "8350  points Done...\n",
            "8400  points Done...\n",
            "8450  points Done...\n",
            "8500  points Done...\n",
            "8550  points Done...\n",
            "8600  points Done...\n",
            "8650  points Done...\n",
            "8700  points Done...\n",
            "8750  points Done...\n",
            "8800  points Done...\n",
            "8850  points Done...\n",
            "8900  points Done...\n",
            "8950  points Done...\n",
            "9000  points Done...\n",
            "9050  points Done...\n",
            "9100  points Done...\n",
            "9150  points Done...\n",
            "9200  points Done...\n",
            "9250  points Done...\n",
            "9300  points Done...\n",
            "9350  points Done...\n",
            "9400  points Done...\n",
            "9450  points Done...\n",
            "9500  points Done...\n",
            "9550  points Done...\n",
            "9600  points Done...\n",
            "9650  points Done...\n",
            "9700  points Done...\n",
            "9750  points Done...\n",
            "9800  points Done...\n",
            "9850  points Done...\n",
            "9900  points Done...\n",
            "9950  points Done...\n",
            "10000  points Done...\n",
            "10050  points Done...\n",
            "10100  points Done...\n",
            "10150  points Done...\n",
            "10200  points Done...\n",
            "10250  points Done...\n",
            "10300  points Done...\n",
            "10350  points Done...\n",
            "10400  points Done...\n",
            "10450  points Done...\n",
            "10500  points Done...\n",
            "10550  points Done...\n",
            "10600  points Done...\n",
            "10650  points Done...\n",
            "10700  points Done...\n",
            "10750  points Done...\n",
            "10800  points Done...\n",
            "10850  points Done...\n",
            "10900  points Done...\n",
            "10950  points Done...\n",
            "11000  points Done...\n",
            "11050  points Done...\n",
            "11100  points Done...\n",
            "11150  points Done...\n",
            "11200  points Done...\n",
            "11250  points Done...\n",
            "11300  points Done...\n",
            "11350  points Done...\n",
            "11400  points Done...\n",
            "11450  points Done...\n",
            "11500  points Done...\n",
            "11550  points Done...\n",
            "11600  points Done...\n",
            "11650  points Done...\n",
            "11700  points Done...\n",
            "11750  points Done...\n",
            "11800  points Done...\n",
            "11850  points Done...\n",
            "11900  points Done...\n",
            "11950  points Done...\n",
            "12000  points Done...\n",
            "12050  points Done...\n",
            "12100  points Done...\n",
            "12150  points Done...\n",
            "12200  points Done...\n",
            "12250  points Done...\n",
            "12300  points Done...\n",
            "12350  points Done...\n",
            "12400  points Done...\n",
            "12450  points Done...\n",
            "12500  points Done...\n",
            "12550  points Done...\n",
            "12600  points Done...\n",
            "12650  points Done...\n",
            "12700  points Done...\n",
            "12750  points Done...\n",
            "12800  points Done...\n",
            "12850  points Done...\n",
            "12900  points Done...\n",
            "12950  points Done...\n",
            "13000  points Done...\n",
            "13050  points Done...\n",
            "13100  points Done...\n",
            "13150  points Done...\n",
            "13200  points Done...\n",
            "13250  points Done...\n",
            "13300  points Done...\n",
            "13350  points Done...\n",
            "13400  points Done...\n",
            "13450  points Done...\n",
            "13500  points Done...\n",
            "13550  points Done...\n",
            "13600  points Done...\n",
            "13650  points Done...\n",
            "13700  points Done...\n",
            "13750  points Done...\n",
            "13800  points Done...\n",
            "Data Prepropecessed Sucessfully....\n",
            "\n",
            "Data Size Infected :  14040\n",
            "Data Size Un-Infected :  13804\n",
            "Missed Data :  3\n",
            "Image Size (100, 100, 3)\n"
          ],
          "name": "stdout"
        }
      ]
    },
    {
      "cell_type": "markdown",
      "metadata": {
        "id": "SwaoetCkMz55",
        "colab_type": "text"
      },
      "source": [
        "**Saving The loaded numpy arrays**"
      ]
    },
    {
      "cell_type": "markdown",
      "metadata": {
        "id": "KvFqM8cENSch",
        "colab_type": "text"
      },
      "source": [
        "As Data requires large time for loading in colab so we just save the loaded data into npz files. Hence it can be used multiple times for savage"
      ]
    },
    {
      "cell_type": "code",
      "metadata": {
        "id": "4Az3Rj_nR2r4",
        "colab_type": "code",
        "colab": {}
      },
      "source": [
        "np.savez('/content/drive/My Drive/colab_notebooks/infected_data.npz',np.array(infected_data))\n",
        "np.savez('/content/drive/My Drive/colab_notebooks/uninfected_data.npz',np.array(uninfected_data))\n",
        "np.savez('/content/drive/My Drive/colab_notebooks/infected_labels.npz',np.array(infected_labels))\n",
        "np.savez('/content/drive/My Drive/colab_notebooks/uninfected_labels.npz',np.array(uninfected_labels))\n",
        "print('File SucessFully Saved......')"
      ],
      "execution_count": 0,
      "outputs": []
    },
    {
      "cell_type": "markdown",
      "metadata": {
        "id": "eu36l8CGN7QF",
        "colab_type": "text"
      },
      "source": [
        "# Required Functions "
      ]
    },
    {
      "cell_type": "markdown",
      "metadata": {
        "id": "DIaArtYPOB65",
        "colab_type": "text"
      },
      "source": [
        "1.   Loading Data from npz files\n",
        "2.   One Hot encoding function\n",
        "\n"
      ]
    },
    {
      "cell_type": "code",
      "metadata": {
        "id": "pspo6Uv8Y1rg",
        "colab_type": "code",
        "colab": {}
      },
      "source": [
        "# data  loading function\n",
        "def load_data(name):\n",
        "    # name : Data Category to load\n",
        "    data = np.load('/content/drive/My Drive/colab_notebooks/'+name+'.npz')\n",
        "    data = data['arr_0']\n",
        "    print(name+' loaded sucessfully.....')\n",
        "    \n",
        "    return data\n",
        "\n",
        "\n",
        "# One Hot Encoding for categorical Data conversion\n",
        "def one_hot_encoding(data) : \n",
        "\n",
        "    data = data.reshape(-1,1)\n",
        "    ohe = OneHotEncoder(handle_unknown = 'ignore')\n",
        "    ohe.fit(data)\n",
        "    var = ohe.transform(data).toarray()\n",
        "\n",
        "    return var\n"
      ],
      "execution_count": 0,
      "outputs": []
    },
    {
      "cell_type": "markdown",
      "metadata": {
        "id": "RuIBmv9KPs_Y",
        "colab_type": "text"
      },
      "source": [
        "\n",
        "\n",
        "1.   Custom Data Agumentation Function 1\n",
        "2.   Custom Data Agumentation Function 1\n",
        "\n"
      ]
    },
    {
      "cell_type": "code",
      "metadata": {
        "id": "aP9mmj_n41W1",
        "colab_type": "code",
        "colab": {}
      },
      "source": [
        "# 1.\n",
        "# shift Images to specified pixels and Increse Intensity by 25  \n",
        "def agument_shifted(img,pixels=4):\n",
        "    #print(img)\n",
        "    typ = img.dtype\n",
        "    last = img[:,-1*pixels:]\n",
        "\n",
        "    temp = np.zeros(img.shape)\n",
        "\n",
        "    temp[:,pixels:] = img[:,0:img.shape[1]-pixels]\n",
        "    #temp[:,0:pixels] = last\n",
        "    temp = np.add(temp,25)\n",
        "\n",
        "    return temp.astype(typ)\n",
        "\n",
        "# 2.\n",
        "# Rotate The Input at 90,180,270 Degrees results,\n",
        "# Three output for one Input\n",
        "def agument_rotated(img):\n",
        "    rotated_90 = imutils.rotate(img,90)\n",
        "    rotated_180 = imutils.rotate(img,180)\n",
        "    rotated_270 = imutils.rotate(img,270)\n",
        "    aug_images = (rotated_90,rotated_180,rotated_270)\n",
        "\n",
        "    return aug_images"
      ],
      "execution_count": 0,
      "outputs": []
    },
    {
      "cell_type": "markdown",
      "metadata": {
        "id": "rM00c-ahQpeF",
        "colab_type": "text"
      },
      "source": [
        "#Loading Data from npz files "
      ]
    },
    {
      "cell_type": "markdown",
      "metadata": {
        "id": "1cyC_s0ZRr8z",
        "colab_type": "text"
      },
      "source": [
        "It will take just few seconds to load data from npz files"
      ]
    },
    {
      "cell_type": "code",
      "metadata": {
        "id": "cLIimsuGaNyH",
        "colab_type": "code",
        "outputId": "38979bee-dfbb-4771-ad0f-6014410e5f5a",
        "colab": {
          "base_uri": "https://localhost:8080/",
          "height": 86
        }
      },
      "source": [
        "infected_data = load_data('infected_data')\n",
        "uninfected_data = load_data('uninfected_data')\n",
        "infected_labels = load_data('infected_labels')\n",
        "uninfected_labels = load_data('uninfected_labels')"
      ],
      "execution_count": 6,
      "outputs": [
        {
          "output_type": "stream",
          "text": [
            "infected_data loaded sucessfully.....\n",
            "uninfected_data loaded sucessfully.....\n",
            "infected_labels loaded sucessfully.....\n",
            "uninfected_labels loaded sucessfully.....\n"
          ],
          "name": "stdout"
        }
      ]
    },
    {
      "cell_type": "markdown",
      "metadata": {
        "id": "Ubg70Parfjce",
        "colab_type": "text"
      },
      "source": [
        "#Visualizing Over Raw Data "
      ]
    },
    {
      "cell_type": "code",
      "metadata": {
        "id": "IIXuZAK7iN3z",
        "colab_type": "code",
        "outputId": "749ea378-558c-4e98-fe86-5d754e744b64",
        "colab": {
          "base_uri": "https://localhost:8080/",
          "height": 469
        }
      },
      "source": [
        "f,axes = plt.subplots(2,2)\n",
        "f.set_figheight(7)\n",
        "f.set_figwidth(9)\n",
        "\n",
        "axes[0,0].imshow(cv2.resize(infected_data[random.randint(0,len(infected_data))],(32,32)),cmap = plt.cm.gray)\n",
        "#axes[0,0].set_xlabel('Infected',fontsize=17)\n",
        "\n",
        "axes[0,1].imshow(cv2.resize(uninfected_data[random.randint(1,len(uninfected_data))],(32,32)),cmap = plt.cm.gray)\n",
        "#axes[0,1].set_xlabel('Uninfected',fontsize=17)\n",
        "\n",
        "axes[1,0].imshow(cv2.resize(infected_data[random.randint(1,len(infected_data))],(32,32)),cmap = plt.cm.gray)\n",
        "axes[1,0].set_xlabel('Infected',fontsize=17)\n",
        "\n",
        "axes[1,1].imshow(cv2.resize(uninfected_data[random.randint(1,len(uninfected_data))],(32,32)),cmap = plt.cm.gray)\n",
        "axes[1,1].set_xlabel('Uninfected',fontsize=17)\n"
      ],
      "execution_count": 9,
      "outputs": [
        {
          "output_type": "execute_result",
          "data": {
            "text/plain": [
              "Text(0.5, 0, 'Uninfected')"
            ]
          },
          "metadata": {
            "tags": []
          },
          "execution_count": 9
        },
        {
          "output_type": "display_data",
          "data": {
            "image/png": "[encoded data removed]",
            "text/plain": [
              "<Figure size 648x504 with 4 Axes>"
            ]
          },
          "metadata": {
            "tags": [],
            "needs_background": "light"
          }
        }
      ]
    },
    {
      "cell_type": "markdown",
      "metadata": {
        "id": "MZV7c-9XjKnT",
        "colab_type": "text"
      },
      "source": [
        "#Data Preprocessing\n",
        "\n",
        "---\n",
        "\n",
        "\n",
        "\n",
        "---\n"
      ]
    },
    {
      "cell_type": "markdown",
      "metadata": {
        "id": "ep7ntHVgfu4X",
        "colab_type": "text"
      },
      "source": [
        " **Data Agumentation**  \n",
        "\n"
      ]
    },
    {
      "cell_type": "markdown",
      "metadata": {
        "id": "MmoT0kNzfzOU",
        "colab_type": "text"
      },
      "source": [
        "we just use rotation and translation in Data Agumentation"
      ]
    },
    {
      "cell_type": "markdown",
      "metadata": {
        "id": "fB2P4HqegWk7",
        "colab_type": "text"
      },
      "source": [
        "we use Data at every 28th iteration and hence results in 4000 samples, but more Data can be generated upto 30000 images"
      ]
    },
    {
      "cell_type": "code",
      "metadata": {
        "id": "w5-kvYcUBEm7",
        "colab_type": "code",
        "colab": {
          "base_uri": "https://localhost:8080/",
          "height": 86
        },
        "outputId": "0b682dc2-ab42-4b80-8e71-f1721b652c5a"
      },
      "source": [
        "# Data Agumentation\n",
        "\n",
        "# required Variables\n",
        "agumented_infected = []\n",
        "agumented_infected_labels = []\n",
        "agumented_uninfected = []\n",
        "agumented_uninfected_labels = []\n",
        "\n",
        "# Agumentation for Infected Data\n",
        "for ite,i in enumerate(infected_data):\n",
        "    if(ite%28 == 0):\n",
        "        first = agument_shifted(i)\n",
        "        second,third,fourth = agument_rotated(i)\n",
        "        agumented_infected.extend([first,second,third,fourth])\n",
        "        agumented_infected_labels.extend(['infected','infected','infected','infected'])\n",
        "\n",
        "# Agumentation for Un-Infected Data\n",
        "for ite,i in enumerate(uninfected_data):\n",
        "    if(ite%28 == 0):        \n",
        "        first = agument_shifted(i)\n",
        "        second,third,fourth = agument_rotated(i)\n",
        "        agumented_uninfected.extend([first,second,third,fourth])\n",
        "        agumented_uninfected_labels.extend(['uninfected','uninfected','uninfected','uninfected'])\n",
        "\n",
        "agumented_infected = np.array(agumented_infected)\n",
        "agumented_infected_labels = np.array(agumented_infected_labels)\n",
        "agumented_uninfected = np.array(agumented_uninfected)\n",
        "agumented_uninfected_labels = np.array(agumented_uninfected_labels)\n",
        "\n",
        "print('\\t \\t \\t \\t Data Generated Sucessfully.....')\n",
        "print('Total Data Generated : ',len(agumented_infected_labels)+len(agumented_uninfected_labels))\n",
        "print('\\t     Infected : ',len(agumented_infected_labels))\n",
        "print('\\t  Un-Infected : ',len(agumented_uninfected_labels))\n"
      ],
      "execution_count": 10,
      "outputs": [
        {
          "output_type": "stream",
          "text": [
            "\t \t \t \t Data Generated Sucessfully.....\n",
            "Total Data Generated :  3980\n",
            "\t     Infected :  2008\n",
            "\t  Un-Infected :  1972\n"
          ],
          "name": "stdout"
        }
      ]
    },
    {
      "cell_type": "markdown",
      "metadata": {
        "id": "H91sFYg5gzqf",
        "colab_type": "text"
      },
      "source": [
        "**Visulization over Agumented Data**"
      ]
    },
    {
      "cell_type": "code",
      "metadata": {
        "id": "SpEphEPk4ELB",
        "colab_type": "code",
        "colab": {
          "base_uri": "https://localhost:8080/",
          "height": 477
        },
        "outputId": "823504c6-d065-4cef-baf1-c195df160d16"
      },
      "source": [
        "plt.figure(figsize=(7,9))\n",
        "l1 = []\n",
        "for i in range(4):\n",
        "    l=[]\n",
        "    for j in range(4):\n",
        "        if(j%2 == 0):    \n",
        "            l.append(agumented_infected[np.random.randint(0,len(agumented_infected))])\n",
        "        else:\n",
        "            l.append(agumented_uninfected[np.random.randint(0,len(agumented_uninfected))])\n",
        "    \n",
        "    l1.append(cv2.hconcat(l))\n",
        "\n",
        "plt.imshow(cv2.vconcat(l1))\n",
        "plt.title('Data Generated By Agumentation',fontsize=21)"
      ],
      "execution_count": 23,
      "outputs": [
        {
          "output_type": "execute_result",
          "data": {
            "text/plain": [
              "Text(0.5, 1.0, 'Data Generated By Agumentation')"
            ]
          },
          "metadata": {
            "tags": []
          },
          "execution_count": 23
        },
        {
          "output_type": "display_data",
          "data": {
            "image/png": "[encoded data removed]",
            "text/plain": [
              "<Figure size 504x648 with 1 Axes>"
            ]
          },
          "metadata": {
            "tags": [],
            "needs_background": "light"
          }
        }
      ]
    },
    {
      "cell_type": "markdown",
      "metadata": {
        "id": "zUBfUilFhb01",
        "colab_type": "text"
      },
      "source": [
        "We use Image normalization and standardization for preprocessing. 80% of Total Data used for Training and remaining 20% for Validation"
      ]
    },
    {
      "cell_type": "code",
      "metadata": {
        "id": "LNpdhnEVQoGo",
        "colab_type": "code",
        "outputId": "3c8e686b-0e70-4b6a-94a8-7cd5f9fc0d88",
        "colab": {
          "base_uri": "https://localhost:8080/",
          "height": 86
        }
      },
      "source": [
        "# conacating all different segments of Data\n",
        "data = np.concatenate((infected_data , uninfected_data , agumented_infected , agumented_uninfected), axis=0)\n",
        "labels = np.concatenate((infected_labels, uninfected_labels , agumented_infected_labels , agumented_uninfected_labels), axis=0)\n",
        "\n",
        "# normalization\n",
        "X = np.divide(data,255)\n",
        "# standardization\n",
        "X = np.divide(data - np.mean(data),np.std(data))\n",
        "\n",
        "# converting Categorical variables\n",
        "Y = one_hot_encoding(labels)\n",
        "\n",
        "x_train,x_test , y_train,y_test = train_test_split(X,Y,test_size = 0.2)\n",
        "\n",
        "print('Training Data : ',len(y_train))\n",
        "print('Testing Data : ',len(y_test))\n",
        "print('Infected Data Label : ',Y[0])\n",
        "print('Un-Infected Data Label : ',Y[17000])"
      ],
      "execution_count": 11,
      "outputs": [
        {
          "output_type": "stream",
          "text": [
            "Training Data :  25460\n",
            "Testing Data :  6365\n",
            "Infected Data Label :  [1. 0.]\n",
            "Un-Infected Data Label :  [0. 1.]\n"
          ],
          "name": "stdout"
        }
      ]
    },
    {
      "cell_type": "markdown",
      "metadata": {
        "id": "vbfDg1T-iYwG",
        "colab_type": "text"
      },
      "source": [
        "# Visulization over Preprocessed Data "
      ]
    },
    {
      "cell_type": "markdown",
      "metadata": {
        "id": "GdxVT-KuiikJ",
        "colab_type": "text"
      },
      "source": [
        "The Region of Intrest More clearly visible after preprocessing "
      ]
    },
    {
      "cell_type": "code",
      "metadata": {
        "id": "Xi9DYBR520sw",
        "colab_type": "code",
        "outputId": "17e6d5c3-4191-440a-c7f3-6f30981080dc",
        "colab": {
          "base_uri": "https://localhost:8080/",
          "height": 538
        }
      },
      "source": [
        "f ,ax = plt.subplots(1,2)\n",
        "f.set_figheight(17)\n",
        "f.set_figwidth(17)\n",
        "\n",
        "l11 = []\n",
        "l22 = []\n",
        "\n",
        "for i in range(4):\n",
        "    l1 = []\n",
        "    l2 = []\n",
        "    for j in range(4):\n",
        "        if(j%2 == 0):\n",
        "            val = np.random.randint(0,len(infected_data))\n",
        "        else:\n",
        "            val = np.random.randint(14050,14050+len(uninfected_data))\n",
        "\n",
        "        l1.append(cv2.resize(data[val],(32,32)))\n",
        "        l2.append(cv2.resize(X[val],(32,32)))\n",
        "          \n",
        "    l22.append(cv2.hconcat(l2))\n",
        "    l11.append(cv2.hconcat(l1))\n",
        "\n",
        "\n",
        "ax[0].imshow(cv2.vconcat(l11),cmap = plt.cm.gray)\n",
        "ax[0].set_xlabel('Raw Data',fontsize=20)\n",
        "\n",
        "ax[1].imshow(cv2.vconcat(l22),cmap = plt.cm.gray)\n",
        "ax[1].set_xlabel('Preprocessed Data',fontsize=20)"
      ],
      "execution_count": 8,
      "outputs": [
        {
          "output_type": "stream",
          "text": [
            "Clipping input data to the valid range for imshow with RGB data ([0..1] for floats or [0..255] for integers).\n"
          ],
          "name": "stderr"
        },
        {
          "output_type": "execute_result",
          "data": {
            "text/plain": [
              "Text(0.5, 0, 'Preprocessed Data')"
            ]
          },
          "metadata": {
            "tags": []
          },
          "execution_count": 8
        },
        {
          "output_type": "display_data",
          "data": {
            "image/png": "[encoded data removed]",
            "text/plain": [
              "<Figure size 1224x1224 with 2 Axes>"
            ]
          },
          "metadata": {
            "tags": [],
            "needs_background": "light"
          }
        }
      ]
    },
    {
      "cell_type": "markdown",
      "metadata": {
        "id": "L0yM3P5UknhO",
        "colab_type": "text"
      },
      "source": [
        "#Model Creation"
      ]
    },
    {
      "cell_type": "markdown",
      "metadata": {
        "id": "gd3hDVx1kpvN",
        "colab_type": "text"
      },
      "source": [
        "*   we use keras functional API for Model Builing Implementation \n",
        "*   Convolution Neural Network(CNN) Algorithum used for better feature  selection and classification\n",
        "*   Batch Size = 64\n",
        "*   Epochs = 150\n",
        "*   Loss = Binary cross-entropy\n",
        "*   Optimizer = Adam\n",
        "*   Learning Rate = 1e-06"
      ]
    },
    {
      "cell_type": "code",
      "metadata": {
        "id": "SpmnWQYAQoMJ",
        "colab_type": "code",
        "outputId": "16291c96-a2c1-49c6-e604-fb3db155e0d0",
        "colab": {
          "base_uri": "https://localhost:8080/",
          "height": 849
        }
      },
      "source": [
        "from keras.models import Sequential\n",
        "from keras.layers import Conv2D,MaxPooling2D,Activation\n",
        "from keras import optimizers\n",
        "from keras.layers import Dropout,Flatten,Dense,Input\n",
        "from sklearn.metrics import accuracy_score\n",
        "\n",
        "batch_size = 64\n",
        "epochs = 350\n",
        "input_shape = x_train[0].shape\n",
        "num_classes = len(y_train[0])\n",
        "print(num_classes)\n",
        "\n",
        "model = Sequential()\n",
        "\n",
        "#model.add(Input(shape = input_shape))\n",
        "model.add(Conv2D(filters = 32, kernel_size = (3,3), padding='same',input_shape = input_shape))\n",
        "model.add(Conv2D(filters = 32, kernel_size = (3,3), padding='same', activation = 'relu'))\n",
        "#model.add(Activation('relu'))\n",
        "model.add(MaxPooling2D(pool_size = (2,2)))\n",
        "\n",
        "model.add(Conv2D(filters = 64, kernel_size = (3,3), padding = 'same', activation='relu'))\n",
        "model.add(Conv2D(filters = 64, kernel_size = (3,3), padding = 'same', activation='relu'))\n",
        "#model.add(Activation('relu'))\n",
        "model.add(MaxPooling2D(pool_size = (2,2)))\n",
        "\n",
        "model.add(Conv2D(filters = 128, kernel_size = (3,3), padding = 'same', activation='relu'))\n",
        "model.add(Conv2D(filters = 128, kernel_size = (3,3), padding = 'same', activation='relu'))\n",
        "#model.add(Activation('relu'))\n",
        "model.add(MaxPooling2D(pool_size = (2,2)))\n",
        "\n",
        "model.add(Conv2D(filters = 256, kernel_size = (3,3), padding = 'same', activation='relu'))\n",
        "model.add(Conv2D(filters = 256, kernel_size = (3,3), padding = 'same', activation='relu'))\n",
        "#model.add(Activation('relu'))\n",
        "model.add(MaxPooling2D(pool_size = (2,2)))\n",
        "\n",
        "model.add(Flatten())\n",
        "model.add(Dense(256, activation = 'relu'))\n",
        "model.add(Dropout(0.5))\n",
        "model.add(Dense(256, activation = 'relu'))\n",
        "model.add(Dropout(0.5))\n",
        "#model.add(Activation('relu'))\n",
        "model.add(Dense(num_classes))\n",
        "model.add(Activation('softmax'))\n",
        "\n",
        "print(model.summary())"
      ],
      "execution_count": 28,
      "outputs": [
        {
          "output_type": "stream",
          "text": [
            "2\n",
            "Model: \"sequential_2\"\n",
            "_________________________________________________________________\n",
            "Layer (type)                 Output Shape              Param #   \n",
            "=================================================================\n",
            "conv2d_9 (Conv2D)            (None, 100, 100, 32)      896       \n",
            "_________________________________________________________________\n",
            "conv2d_10 (Conv2D)           (None, 100, 100, 32)      9248      \n",
            "_________________________________________________________________\n",
            "max_pooling2d_5 (MaxPooling2 (None, 50, 50, 32)        0         \n",
            "_________________________________________________________________\n",
            "conv2d_11 (Conv2D)           (None, 50, 50, 64)        18496     \n",
            "_________________________________________________________________\n",
            "conv2d_12 (Conv2D)           (None, 50, 50, 64)        36928     \n",
            "_________________________________________________________________\n",
            "max_pooling2d_6 (MaxPooling2 (None, 25, 25, 64)        0         \n",
            "_________________________________________________________________\n",
            "conv2d_13 (Conv2D)           (None, 25, 25, 128)       73856     \n",
            "_________________________________________________________________\n",
            "conv2d_14 (Conv2D)           (None, 25, 25, 128)       147584    \n",
            "_________________________________________________________________\n",
            "max_pooling2d_7 (MaxPooling2 (None, 12, 12, 128)       0         \n",
            "_________________________________________________________________\n",
            "conv2d_15 (Conv2D)           (None, 12, 12, 256)       295168    \n",
            "_________________________________________________________________\n",
            "conv2d_16 (Conv2D)           (None, 12, 12, 256)       590080    \n",
            "_________________________________________________________________\n",
            "max_pooling2d_8 (MaxPooling2 (None, 6, 6, 256)         0         \n",
            "_________________________________________________________________\n",
            "flatten_2 (Flatten)          (None, 9216)              0         \n",
            "_________________________________________________________________\n",
            "dense_4 (Dense)              (None, 256)               2359552   \n",
            "_________________________________________________________________\n",
            "dropout_3 (Dropout)          (None, 256)               0         \n",
            "_________________________________________________________________\n",
            "dense_5 (Dense)              (None, 256)               65792     \n",
            "_________________________________________________________________\n",
            "dropout_4 (Dropout)          (None, 256)               0         \n",
            "_________________________________________________________________\n",
            "dense_6 (Dense)              (None, 2)                 514       \n",
            "_________________________________________________________________\n",
            "activation_2 (Activation)    (None, 2)                 0         \n",
            "=================================================================\n",
            "Total params: 3,598,114\n",
            "Trainable params: 3,598,114\n",
            "Non-trainable params: 0\n",
            "_________________________________________________________________\n",
            "None\n"
          ],
          "name": "stdout"
        }
      ]
    },
    {
      "cell_type": "code",
      "metadata": {
        "id": "5aPXDyH8-Q3C",
        "colab_type": "code",
        "colab": {}
      },
      "source": [
        "model.compile(optimizer = optimizers.Adam(lr = 1e-06), loss  = 'binary_crossentropy',metrics = ['accuracy'])"
      ],
      "execution_count": 0,
      "outputs": []
    },
    {
      "cell_type": "code",
      "metadata": {
        "id": "bM4-kQIk_J3N",
        "colab_type": "code",
        "outputId": "5a1ee530-02b9-41a9-c2a7-908376983879",
        "colab": {
          "base_uri": "https://localhost:8080/",
          "height": 1000
        }
      },
      "source": [
        "history = model.fit(x_train,y_train,batch_size = batch_size, epochs = epochs, validation_data = (x_test,y_test))"
      ],
      "execution_count": 30,
      "outputs": [
        {
          "output_type": "stream",
          "text": [
            "Train on 25460 samples, validate on 6365 samples\n",
            "Epoch 1/350\n",
            "25460/25460 [==============================] - 27s 1ms/step - loss: 0.6915 - accuracy: 0.5253 - val_loss: 0.6872 - val_accuracy: 0.5846\n",
            "Epoch 2/350\n",
            "25460/25460 [==============================] - 20s 780us/step - loss: 0.6826 - accuracy: 0.5771 - val_loss: 0.6730 - val_accuracy: 0.6459\n",
            "Epoch 3/350\n",
            "25460/25460 [==============================] - 20s 780us/step - loss: 0.6636 - accuracy: 0.6295 - val_loss: 0.6465 - val_accuracy: 0.6484\n",
            "Epoch 4/350\n",
            "25460/25460 [==============================] - 20s 782us/step - loss: 0.6404 - accuracy: 0.6514 - val_loss: 0.6254 - val_accuracy: 0.6581\n",
            "Epoch 5/350\n",
            "25460/25460 [==============================] - 20s 781us/step - loss: 0.6261 - accuracy: 0.6625 - val_loss: 0.6146 - val_accuracy: 0.6665\n",
            "Epoch 6/350\n",
            "25460/25460 [==============================] - 20s 780us/step - loss: 0.6171 - accuracy: 0.6727 - val_loss: 0.6061 - val_accuracy: 0.6786\n",
            "Epoch 7/350\n",
            "25460/25460 [==============================] - 20s 781us/step - loss: 0.6098 - accuracy: 0.6811 - val_loss: 0.5992 - val_accuracy: 0.6820\n",
            "Epoch 8/350\n",
            "25460/25460 [==============================] - 20s 780us/step - loss: 0.6029 - accuracy: 0.6875 - val_loss: 0.5927 - val_accuracy: 0.6894\n",
            "Epoch 9/350\n",
            "25460/25460 [==============================] - 20s 782us/step - loss: 0.5952 - accuracy: 0.6961 - val_loss: 0.5812 - val_accuracy: 0.6988\n",
            "Epoch 10/350\n",
            "25460/25460 [==============================] - 20s 780us/step - loss: 0.5862 - accuracy: 0.7032 - val_loss: 0.5712 - val_accuracy: 0.7079\n",
            "Epoch 11/350\n",
            "25460/25460 [==============================] - 20s 779us/step - loss: 0.5760 - accuracy: 0.7132 - val_loss: 0.5601 - val_accuracy: 0.7172\n",
            "Epoch 12/350\n",
            "25460/25460 [==============================] - 20s 780us/step - loss: 0.5672 - accuracy: 0.7192 - val_loss: 0.5487 - val_accuracy: 0.7238\n",
            "Epoch 13/350\n",
            "25460/25460 [==============================] - 20s 780us/step - loss: 0.5550 - accuracy: 0.7310 - val_loss: 0.5378 - val_accuracy: 0.7315\n",
            "Epoch 14/350\n",
            "25460/25460 [==============================] - 20s 778us/step - loss: 0.5429 - accuracy: 0.7423 - val_loss: 0.5211 - val_accuracy: 0.7438\n",
            "Epoch 15/350\n",
            "25460/25460 [==============================] - 20s 785us/step - loss: 0.5301 - accuracy: 0.7510 - val_loss: 0.5053 - val_accuracy: 0.7565\n",
            "Epoch 16/350\n",
            "25460/25460 [==============================] - 20s 781us/step - loss: 0.5154 - accuracy: 0.7628 - val_loss: 0.4890 - val_accuracy: 0.7728\n",
            "Epoch 17/350\n",
            "25460/25460 [==============================] - 20s 779us/step - loss: 0.5023 - accuracy: 0.7720 - val_loss: 0.4720 - val_accuracy: 0.7753\n",
            "Epoch 18/350\n",
            "25460/25460 [==============================] - 20s 778us/step - loss: 0.4863 - accuracy: 0.7832 - val_loss: 0.4573 - val_accuracy: 0.7822\n",
            "Epoch 19/350\n",
            "25460/25460 [==============================] - 20s 779us/step - loss: 0.4686 - accuracy: 0.7928 - val_loss: 0.4326 - val_accuracy: 0.8093\n",
            "Epoch 20/350\n",
            "25460/25460 [==============================] - 20s 777us/step - loss: 0.4500 - accuracy: 0.8049 - val_loss: 0.4124 - val_accuracy: 0.8184\n",
            "Epoch 21/350\n",
            "25460/25460 [==============================] - 20s 776us/step - loss: 0.4326 - accuracy: 0.8170 - val_loss: 0.3921 - val_accuracy: 0.8275\n",
            "Epoch 22/350\n",
            "25460/25460 [==============================] - 20s 774us/step - loss: 0.4131 - accuracy: 0.8258 - val_loss: 0.3782 - val_accuracy: 0.8269\n",
            "Epoch 23/350\n",
            "25460/25460 [==============================] - 20s 775us/step - loss: 0.3935 - accuracy: 0.8389 - val_loss: 0.3511 - val_accuracy: 0.8493\n",
            "Epoch 24/350\n",
            "25460/25460 [==============================] - 20s 777us/step - loss: 0.3736 - accuracy: 0.8504 - val_loss: 0.3316 - val_accuracy: 0.8625\n",
            "Epoch 25/350\n",
            "25460/25460 [==============================] - 20s 779us/step - loss: 0.3549 - accuracy: 0.8572 - val_loss: 0.3225 - val_accuracy: 0.8526\n",
            "Epoch 26/350\n",
            "25460/25460 [==============================] - 20s 777us/step - loss: 0.3378 - accuracy: 0.8681 - val_loss: 0.2998 - val_accuracy: 0.8819\n",
            "Epoch 27/350\n",
            "25460/25460 [==============================] - 20s 779us/step - loss: 0.3216 - accuracy: 0.8773 - val_loss: 0.2831 - val_accuracy: 0.8875\n",
            "Epoch 28/350\n",
            "25460/25460 [==============================] - 20s 780us/step - loss: 0.3082 - accuracy: 0.8836 - val_loss: 0.2718 - val_accuracy: 0.8899\n",
            "Epoch 29/350\n",
            "25460/25460 [==============================] - 20s 781us/step - loss: 0.2953 - accuracy: 0.8885 - val_loss: 0.2573 - val_accuracy: 0.9005\n",
            "Epoch 30/350\n",
            "25460/25460 [==============================] - 20s 780us/step - loss: 0.2821 - accuracy: 0.8947 - val_loss: 0.2477 - val_accuracy: 0.9090\n",
            "Epoch 31/350\n",
            "25460/25460 [==============================] - 20s 784us/step - loss: 0.2740 - accuracy: 0.8997 - val_loss: 0.2433 - val_accuracy: 0.9037\n",
            "Epoch 32/350\n",
            "25460/25460 [==============================] - 20s 779us/step - loss: 0.2655 - accuracy: 0.9037 - val_loss: 0.2312 - val_accuracy: 0.9158\n",
            "Epoch 33/350\n",
            "25460/25460 [==============================] - 20s 779us/step - loss: 0.2551 - accuracy: 0.9081 - val_loss: 0.2245 - val_accuracy: 0.9189\n",
            "Epoch 34/350\n",
            "25460/25460 [==============================] - 20s 779us/step - loss: 0.2475 - accuracy: 0.9130 - val_loss: 0.2192 - val_accuracy: 0.9205\n",
            "Epoch 35/350\n",
            "25460/25460 [==============================] - 20s 779us/step - loss: 0.2429 - accuracy: 0.9130 - val_loss: 0.2130 - val_accuracy: 0.9235\n",
            "Epoch 36/350\n",
            "25460/25460 [==============================] - 20s 778us/step - loss: 0.2353 - accuracy: 0.9183 - val_loss: 0.2093 - val_accuracy: 0.9243\n",
            "Epoch 37/350\n",
            "25460/25460 [==============================] - 20s 779us/step - loss: 0.2287 - accuracy: 0.9209 - val_loss: 0.2032 - val_accuracy: 0.9266\n",
            "Epoch 38/350\n",
            "25460/25460 [==============================] - 20s 777us/step - loss: 0.2240 - accuracy: 0.9215 - val_loss: 0.2054 - val_accuracy: 0.9224\n",
            "Epoch 39/350\n",
            "25460/25460 [==============================] - 20s 776us/step - loss: 0.2191 - accuracy: 0.9245 - val_loss: 0.1961 - val_accuracy: 0.9299\n",
            "Epoch 40/350\n",
            "25460/25460 [==============================] - 20s 772us/step - loss: 0.2152 - accuracy: 0.9244 - val_loss: 0.1949 - val_accuracy: 0.9293\n",
            "Epoch 41/350\n",
            "25460/25460 [==============================] - 20s 778us/step - loss: 0.2103 - accuracy: 0.9274 - val_loss: 0.1900 - val_accuracy: 0.9318\n",
            "Epoch 42/350\n",
            "25460/25460 [==============================] - 20s 778us/step - loss: 0.2072 - accuracy: 0.9297 - val_loss: 0.1878 - val_accuracy: 0.9331\n",
            "Epoch 43/350\n",
            "25460/25460 [==============================] - 20s 778us/step - loss: 0.2024 - accuracy: 0.9302 - val_loss: 0.1858 - val_accuracy: 0.9329\n",
            "Epoch 44/350\n",
            "25460/25460 [==============================] - 20s 777us/step - loss: 0.2020 - accuracy: 0.9313 - val_loss: 0.1820 - val_accuracy: 0.9357\n",
            "Epoch 45/350\n",
            "25460/25460 [==============================] - 20s 779us/step - loss: 0.2005 - accuracy: 0.9319 - val_loss: 0.1914 - val_accuracy: 0.9290\n",
            "Epoch 46/350\n",
            "25460/25460 [==============================] - 20s 780us/step - loss: 0.1957 - accuracy: 0.9337 - val_loss: 0.1783 - val_accuracy: 0.9361\n",
            "Epoch 47/350\n",
            "25460/25460 [==============================] - 20s 782us/step - loss: 0.1922 - accuracy: 0.9337 - val_loss: 0.1769 - val_accuracy: 0.9383\n",
            "Epoch 48/350\n",
            "25460/25460 [==============================] - 20s 778us/step - loss: 0.1901 - accuracy: 0.9361 - val_loss: 0.1735 - val_accuracy: 0.9384\n",
            "Epoch 49/350\n",
            "25460/25460 [==============================] - 20s 779us/step - loss: 0.1886 - accuracy: 0.9370 - val_loss: 0.1725 - val_accuracy: 0.9387\n",
            "Epoch 50/350\n",
            "25460/25460 [==============================] - 20s 779us/step - loss: 0.1864 - accuracy: 0.9373 - val_loss: 0.1708 - val_accuracy: 0.9398\n",
            "Epoch 51/350\n",
            "25460/25460 [==============================] - 20s 778us/step - loss: 0.1827 - accuracy: 0.9381 - val_loss: 0.1688 - val_accuracy: 0.9406\n",
            "Epoch 52/350\n",
            "25460/25460 [==============================] - 20s 778us/step - loss: 0.1804 - accuracy: 0.9391 - val_loss: 0.1672 - val_accuracy: 0.9411\n",
            "Epoch 53/350\n",
            "25460/25460 [==============================] - 20s 780us/step - loss: 0.1790 - accuracy: 0.9397 - val_loss: 0.1659 - val_accuracy: 0.9427\n",
            "Epoch 54/350\n",
            "25460/25460 [==============================] - 20s 778us/step - loss: 0.1779 - accuracy: 0.9401 - val_loss: 0.1659 - val_accuracy: 0.9414\n",
            "Epoch 55/350\n",
            "25460/25460 [==============================] - 20s 780us/step - loss: 0.1752 - accuracy: 0.9405 - val_loss: 0.1640 - val_accuracy: 0.9430\n",
            "Epoch 56/350\n",
            "25460/25460 [==============================] - 20s 777us/step - loss: 0.1729 - accuracy: 0.9412 - val_loss: 0.1623 - val_accuracy: 0.9431\n",
            "Epoch 57/350\n",
            "25460/25460 [==============================] - 20s 779us/step - loss: 0.1717 - accuracy: 0.9425 - val_loss: 0.1615 - val_accuracy: 0.9434\n",
            "Epoch 58/350\n",
            "25460/25460 [==============================] - 20s 778us/step - loss: 0.1707 - accuracy: 0.9430 - val_loss: 0.1600 - val_accuracy: 0.9441\n",
            "Epoch 59/350\n",
            "25460/25460 [==============================] - 20s 778us/step - loss: 0.1687 - accuracy: 0.9446 - val_loss: 0.1592 - val_accuracy: 0.9441\n",
            "Epoch 60/350\n",
            "25460/25460 [==============================] - 20s 777us/step - loss: 0.1692 - accuracy: 0.9449 - val_loss: 0.1608 - val_accuracy: 0.9441\n",
            "Epoch 61/350\n",
            "25460/25460 [==============================] - 20s 779us/step - loss: 0.1675 - accuracy: 0.9449 - val_loss: 0.1570 - val_accuracy: 0.9455\n",
            "Epoch 62/350\n",
            "25460/25460 [==============================] - 20s 783us/step - loss: 0.1651 - accuracy: 0.9473 - val_loss: 0.1560 - val_accuracy: 0.9456\n",
            "Epoch 63/350\n",
            "25460/25460 [==============================] - 20s 778us/step - loss: 0.1625 - accuracy: 0.9475 - val_loss: 0.1559 - val_accuracy: 0.9461\n",
            "Epoch 64/350\n",
            "25460/25460 [==============================] - 20s 779us/step - loss: 0.1624 - accuracy: 0.9474 - val_loss: 0.1622 - val_accuracy: 0.9441\n",
            "Epoch 65/350\n",
            "25460/25460 [==============================] - 20s 779us/step - loss: 0.1610 - accuracy: 0.9468 - val_loss: 0.1528 - val_accuracy: 0.9463\n",
            "Epoch 66/350\n",
            "25460/25460 [==============================] - 20s 776us/step - loss: 0.1593 - accuracy: 0.9478 - val_loss: 0.1520 - val_accuracy: 0.9469\n",
            "Epoch 67/350\n",
            "25460/25460 [==============================] - 20s 776us/step - loss: 0.1587 - accuracy: 0.9482 - val_loss: 0.1537 - val_accuracy: 0.9483\n",
            "Epoch 68/350\n",
            "25460/25460 [==============================] - 20s 777us/step - loss: 0.1568 - accuracy: 0.9478 - val_loss: 0.1504 - val_accuracy: 0.9482\n",
            "Epoch 69/350\n",
            "25460/25460 [==============================] - 20s 780us/step - loss: 0.1567 - accuracy: 0.9493 - val_loss: 0.1558 - val_accuracy: 0.9463\n",
            "Epoch 70/350\n",
            "25460/25460 [==============================] - 20s 786us/step - loss: 0.1570 - accuracy: 0.9487 - val_loss: 0.1488 - val_accuracy: 0.9489\n",
            "Epoch 71/350\n",
            "25460/25460 [==============================] - 20s 778us/step - loss: 0.1544 - accuracy: 0.9494 - val_loss: 0.1571 - val_accuracy: 0.9474\n",
            "Epoch 72/350\n",
            "25460/25460 [==============================] - 20s 775us/step - loss: 0.1527 - accuracy: 0.9508 - val_loss: 0.1477 - val_accuracy: 0.9493\n",
            "Epoch 73/350\n",
            "25460/25460 [==============================] - 20s 774us/step - loss: 0.1538 - accuracy: 0.9496 - val_loss: 0.1506 - val_accuracy: 0.9488\n",
            "Epoch 74/350\n",
            "25460/25460 [==============================] - 20s 772us/step - loss: 0.1524 - accuracy: 0.9493 - val_loss: 0.1469 - val_accuracy: 0.9493\n",
            "Epoch 75/350\n",
            "25460/25460 [==============================] - 20s 772us/step - loss: 0.1510 - accuracy: 0.9506 - val_loss: 0.1467 - val_accuracy: 0.9500\n",
            "Epoch 76/350\n",
            "25460/25460 [==============================] - 20s 773us/step - loss: 0.1508 - accuracy: 0.9511 - val_loss: 0.1461 - val_accuracy: 0.9502\n",
            "Epoch 77/350\n",
            "25460/25460 [==============================] - 20s 775us/step - loss: 0.1480 - accuracy: 0.9522 - val_loss: 0.1464 - val_accuracy: 0.9507\n",
            "Epoch 78/350\n",
            "25460/25460 [==============================] - 20s 781us/step - loss: 0.1488 - accuracy: 0.9518 - val_loss: 0.1469 - val_accuracy: 0.9507\n",
            "Epoch 79/350\n",
            "25460/25460 [==============================] - 20s 774us/step - loss: 0.1485 - accuracy: 0.9521 - val_loss: 0.1441 - val_accuracy: 0.9515\n",
            "Epoch 80/350\n",
            "25460/25460 [==============================] - 20s 778us/step - loss: 0.1498 - accuracy: 0.9506 - val_loss: 0.1435 - val_accuracy: 0.9511\n",
            "Epoch 81/350\n",
            "25460/25460 [==============================] - 20s 779us/step - loss: 0.1463 - accuracy: 0.9521 - val_loss: 0.1445 - val_accuracy: 0.9515\n",
            "Epoch 82/350\n",
            "25460/25460 [==============================] - 20s 778us/step - loss: 0.1463 - accuracy: 0.9528 - val_loss: 0.1432 - val_accuracy: 0.9516\n",
            "Epoch 83/350\n",
            "25460/25460 [==============================] - 20s 779us/step - loss: 0.1470 - accuracy: 0.9522 - val_loss: 0.1422 - val_accuracy: 0.9515\n",
            "Epoch 84/350\n",
            "25460/25460 [==============================] - 20s 778us/step - loss: 0.1442 - accuracy: 0.9522 - val_loss: 0.1442 - val_accuracy: 0.9516\n",
            "Epoch 85/350\n",
            "25460/25460 [==============================] - 20s 777us/step - loss: 0.1452 - accuracy: 0.9527 - val_loss: 0.1415 - val_accuracy: 0.9521\n",
            "Epoch 86/350\n",
            "25460/25460 [==============================] - 20s 780us/step - loss: 0.1441 - accuracy: 0.9536 - val_loss: 0.1457 - val_accuracy: 0.9505\n",
            "Epoch 87/350\n",
            "25460/25460 [==============================] - 20s 777us/step - loss: 0.1442 - accuracy: 0.9538 - val_loss: 0.1439 - val_accuracy: 0.9507\n",
            "Epoch 88/350\n",
            "25460/25460 [==============================] - 20s 779us/step - loss: 0.1438 - accuracy: 0.9536 - val_loss: 0.1419 - val_accuracy: 0.9532\n",
            "Epoch 89/350\n",
            "25460/25460 [==============================] - 20s 779us/step - loss: 0.1428 - accuracy: 0.9538 - val_loss: 0.1399 - val_accuracy: 0.9530\n",
            "Epoch 90/350\n",
            "25460/25460 [==============================] - 20s 778us/step - loss: 0.1418 - accuracy: 0.9539 - val_loss: 0.1396 - val_accuracy: 0.9532\n",
            "Epoch 91/350\n",
            "25460/25460 [==============================] - 20s 776us/step - loss: 0.1421 - accuracy: 0.9543 - val_loss: 0.1399 - val_accuracy: 0.9526\n",
            "Epoch 92/350\n",
            "25460/25460 [==============================] - 20s 777us/step - loss: 0.1428 - accuracy: 0.9542 - val_loss: 0.1390 - val_accuracy: 0.9540\n",
            "Epoch 93/350\n",
            "25460/25460 [==============================] - 20s 780us/step - loss: 0.1404 - accuracy: 0.9550 - val_loss: 0.1415 - val_accuracy: 0.9533\n",
            "Epoch 94/350\n",
            "25460/25460 [==============================] - 20s 783us/step - loss: 0.1395 - accuracy: 0.9541 - val_loss: 0.1389 - val_accuracy: 0.9529\n",
            "Epoch 95/350\n",
            "25460/25460 [==============================] - 20s 779us/step - loss: 0.1392 - accuracy: 0.9545 - val_loss: 0.1384 - val_accuracy: 0.9540\n",
            "Epoch 96/350\n",
            "25460/25460 [==============================] - 20s 780us/step - loss: 0.1405 - accuracy: 0.9544 - val_loss: 0.1389 - val_accuracy: 0.9546\n",
            "Epoch 97/350\n",
            "25460/25460 [==============================] - 20s 779us/step - loss: 0.1394 - accuracy: 0.9555 - val_loss: 0.1374 - val_accuracy: 0.9540\n",
            "Epoch 98/350\n",
            "25460/25460 [==============================] - 20s 781us/step - loss: 0.1381 - accuracy: 0.9560 - val_loss: 0.1410 - val_accuracy: 0.9533\n",
            "Epoch 99/350\n",
            "25460/25460 [==============================] - 20s 783us/step - loss: 0.1384 - accuracy: 0.9554 - val_loss: 0.1392 - val_accuracy: 0.9541\n",
            "Epoch 100/350\n",
            "25460/25460 [==============================] - 20s 780us/step - loss: 0.1385 - accuracy: 0.9549 - val_loss: 0.1363 - val_accuracy: 0.9543\n",
            "Epoch 101/350\n",
            "25460/25460 [==============================] - 20s 782us/step - loss: 0.1371 - accuracy: 0.9555 - val_loss: 0.1366 - val_accuracy: 0.9541\n",
            "Epoch 102/350\n",
            "25460/25460 [==============================] - 20s 782us/step - loss: 0.1361 - accuracy: 0.9553 - val_loss: 0.1380 - val_accuracy: 0.9554\n",
            "Epoch 103/350\n",
            "25460/25460 [==============================] - 20s 781us/step - loss: 0.1360 - accuracy: 0.9563 - val_loss: 0.1415 - val_accuracy: 0.9515\n",
            "Epoch 104/350\n",
            "25460/25460 [==============================] - 20s 780us/step - loss: 0.1368 - accuracy: 0.9556 - val_loss: 0.1358 - val_accuracy: 0.9532\n",
            "Epoch 105/350\n",
            "25460/25460 [==============================] - 20s 780us/step - loss: 0.1357 - accuracy: 0.9558 - val_loss: 0.1354 - val_accuracy: 0.9544\n",
            "Epoch 106/350\n",
            "25460/25460 [==============================] - 20s 781us/step - loss: 0.1354 - accuracy: 0.9558 - val_loss: 0.1375 - val_accuracy: 0.9530\n",
            "Epoch 107/350\n",
            "25460/25460 [==============================] - 20s 789us/step - loss: 0.1352 - accuracy: 0.9564 - val_loss: 0.1349 - val_accuracy: 0.9544\n",
            "Epoch 108/350\n",
            "25460/25460 [==============================] - 20s 787us/step - loss: 0.1345 - accuracy: 0.9574 - val_loss: 0.1354 - val_accuracy: 0.9555\n",
            "Epoch 109/350\n",
            "25460/25460 [==============================] - 20s 794us/step - loss: 0.1341 - accuracy: 0.9565 - val_loss: 0.1351 - val_accuracy: 0.9549\n",
            "Epoch 110/350\n",
            "25460/25460 [==============================] - 20s 790us/step - loss: 0.1320 - accuracy: 0.9560 - val_loss: 0.1348 - val_accuracy: 0.9540\n",
            "Epoch 111/350\n",
            "25460/25460 [==============================] - 20s 788us/step - loss: 0.1341 - accuracy: 0.9562 - val_loss: 0.1338 - val_accuracy: 0.9551\n",
            "Epoch 112/350\n",
            "25460/25460 [==============================] - 20s 788us/step - loss: 0.1313 - accuracy: 0.9570 - val_loss: 0.1348 - val_accuracy: 0.9566\n",
            "Epoch 113/350\n",
            "25460/25460 [==============================] - 20s 789us/step - loss: 0.1321 - accuracy: 0.9569 - val_loss: 0.1354 - val_accuracy: 0.9555\n",
            "Epoch 114/350\n",
            "25460/25460 [==============================] - 20s 788us/step - loss: 0.1328 - accuracy: 0.9565 - val_loss: 0.1380 - val_accuracy: 0.9530\n",
            "Epoch 115/350\n",
            "25460/25460 [==============================] - 20s 787us/step - loss: 0.1317 - accuracy: 0.9568 - val_loss: 0.1340 - val_accuracy: 0.9538\n",
            "Epoch 116/350\n",
            "25460/25460 [==============================] - 20s 788us/step - loss: 0.1310 - accuracy: 0.9569 - val_loss: 0.1331 - val_accuracy: 0.9557\n",
            "Epoch 117/350\n",
            "25460/25460 [==============================] - 20s 788us/step - loss: 0.1310 - accuracy: 0.9560 - val_loss: 0.1327 - val_accuracy: 0.9557\n",
            "Epoch 118/350\n",
            "25460/25460 [==============================] - 20s 788us/step - loss: 0.1310 - accuracy: 0.9573 - val_loss: 0.1324 - val_accuracy: 0.9548\n",
            "Epoch 119/350\n",
            "25460/25460 [==============================] - 20s 788us/step - loss: 0.1313 - accuracy: 0.9575 - val_loss: 0.1323 - val_accuracy: 0.9555\n",
            "Epoch 120/350\n",
            "25460/25460 [==============================] - 20s 786us/step - loss: 0.1320 - accuracy: 0.9569 - val_loss: 0.1321 - val_accuracy: 0.9549\n",
            "Epoch 121/350\n",
            "25460/25460 [==============================] - 20s 785us/step - loss: 0.1293 - accuracy: 0.9581 - val_loss: 0.1329 - val_accuracy: 0.9560\n",
            "Epoch 122/350\n",
            "25460/25460 [==============================] - 20s 785us/step - loss: 0.1300 - accuracy: 0.9571 - val_loss: 0.1320 - val_accuracy: 0.9554\n",
            "Epoch 123/350\n",
            "25460/25460 [==============================] - 20s 780us/step - loss: 0.1287 - accuracy: 0.9581 - val_loss: 0.1317 - val_accuracy: 0.9552\n",
            "Epoch 124/350\n",
            "25460/25460 [==============================] - 20s 779us/step - loss: 0.1303 - accuracy: 0.9580 - val_loss: 0.1319 - val_accuracy: 0.9565\n",
            "Epoch 125/350\n",
            "25460/25460 [==============================] - 20s 787us/step - loss: 0.1291 - accuracy: 0.9575 - val_loss: 0.1314 - val_accuracy: 0.9568\n",
            "Epoch 126/350\n",
            "25460/25460 [==============================] - 20s 781us/step - loss: 0.1292 - accuracy: 0.9574 - val_loss: 0.1381 - val_accuracy: 0.9519\n",
            "Epoch 127/350\n",
            "25460/25460 [==============================] - 20s 780us/step - loss: 0.1284 - accuracy: 0.9585 - val_loss: 0.1313 - val_accuracy: 0.9552\n",
            "Epoch 128/350\n",
            "25460/25460 [==============================] - 20s 783us/step - loss: 0.1289 - accuracy: 0.9586 - val_loss: 0.1310 - val_accuracy: 0.9570\n",
            "Epoch 129/350\n",
            "25460/25460 [==============================] - 20s 784us/step - loss: 0.1281 - accuracy: 0.9577 - val_loss: 0.1309 - val_accuracy: 0.9568\n",
            "Epoch 130/350\n",
            "25460/25460 [==============================] - 20s 784us/step - loss: 0.1285 - accuracy: 0.9578 - val_loss: 0.1322 - val_accuracy: 0.9557\n",
            "Epoch 131/350\n",
            "25460/25460 [==============================] - 20s 785us/step - loss: 0.1260 - accuracy: 0.9593 - val_loss: 0.1321 - val_accuracy: 0.9551\n",
            "Epoch 132/350\n",
            "25460/25460 [==============================] - 20s 784us/step - loss: 0.1256 - accuracy: 0.9585 - val_loss: 0.1301 - val_accuracy: 0.9560\n",
            "Epoch 133/350\n",
            "25460/25460 [==============================] - 20s 783us/step - loss: 0.1285 - accuracy: 0.9580 - val_loss: 0.1298 - val_accuracy: 0.9554\n",
            "Epoch 134/350\n",
            "25460/25460 [==============================] - 20s 783us/step - loss: 0.1270 - accuracy: 0.9590 - val_loss: 0.1317 - val_accuracy: 0.9571\n",
            "Epoch 135/350\n",
            "25460/25460 [==============================] - 20s 782us/step - loss: 0.1266 - accuracy: 0.9579 - val_loss: 0.1293 - val_accuracy: 0.9559\n",
            "Epoch 136/350\n",
            "25460/25460 [==============================] - 20s 782us/step - loss: 0.1251 - accuracy: 0.9582 - val_loss: 0.1295 - val_accuracy: 0.9557\n",
            "Epoch 137/350\n",
            "25460/25460 [==============================] - 20s 784us/step - loss: 0.1252 - accuracy: 0.9593 - val_loss: 0.1306 - val_accuracy: 0.9581\n",
            "Epoch 138/350\n",
            "25460/25460 [==============================] - 20s 783us/step - loss: 0.1262 - accuracy: 0.9590 - val_loss: 0.1290 - val_accuracy: 0.9562\n",
            "Epoch 139/350\n",
            "25460/25460 [==============================] - 20s 783us/step - loss: 0.1250 - accuracy: 0.9586 - val_loss: 0.1286 - val_accuracy: 0.9571\n",
            "Epoch 140/350\n",
            "25460/25460 [==============================] - 20s 789us/step - loss: 0.1239 - accuracy: 0.9595 - val_loss: 0.1287 - val_accuracy: 0.9581\n",
            "Epoch 141/350\n",
            "25460/25460 [==============================] - 20s 785us/step - loss: 0.1258 - accuracy: 0.9591 - val_loss: 0.1324 - val_accuracy: 0.9548\n",
            "Epoch 142/350\n",
            "25460/25460 [==============================] - 20s 785us/step - loss: 0.1247 - accuracy: 0.9583 - val_loss: 0.1285 - val_accuracy: 0.9560\n",
            "Epoch 143/350\n",
            "25460/25460 [==============================] - 20s 784us/step - loss: 0.1239 - accuracy: 0.9593 - val_loss: 0.1288 - val_accuracy: 0.9560\n",
            "Epoch 144/350\n",
            "25460/25460 [==============================] - 20s 784us/step - loss: 0.1225 - accuracy: 0.9592 - val_loss: 0.1296 - val_accuracy: 0.9576\n",
            "Epoch 145/350\n",
            "25460/25460 [==============================] - 20s 784us/step - loss: 0.1243 - accuracy: 0.9590 - val_loss: 0.1279 - val_accuracy: 0.9562\n",
            "Epoch 146/350\n",
            "25460/25460 [==============================] - 20s 785us/step - loss: 0.1244 - accuracy: 0.9583 - val_loss: 0.1285 - val_accuracy: 0.9584\n",
            "Epoch 147/350\n",
            "25460/25460 [==============================] - 20s 786us/step - loss: 0.1236 - accuracy: 0.9590 - val_loss: 0.1276 - val_accuracy: 0.9562\n",
            "Epoch 148/350\n",
            "25460/25460 [==============================] - 20s 783us/step - loss: 0.1240 - accuracy: 0.9600 - val_loss: 0.1302 - val_accuracy: 0.9584\n",
            "Epoch 149/350\n",
            "25460/25460 [==============================] - 20s 786us/step - loss: 0.1218 - accuracy: 0.9601 - val_loss: 0.1341 - val_accuracy: 0.9541\n",
            "Epoch 150/350\n",
            "25460/25460 [==============================] - 20s 785us/step - loss: 0.1230 - accuracy: 0.9595 - val_loss: 0.1273 - val_accuracy: 0.9565\n",
            "Epoch 151/350\n",
            "25460/25460 [==============================] - 20s 784us/step - loss: 0.1229 - accuracy: 0.9593 - val_loss: 0.1273 - val_accuracy: 0.9570\n",
            "Epoch 152/350\n",
            "25460/25460 [==============================] - 20s 772us/step - loss: 0.1217 - accuracy: 0.9593 - val_loss: 0.1283 - val_accuracy: 0.9560\n",
            "Epoch 153/350\n",
            "25460/25460 [==============================] - 20s 786us/step - loss: 0.1221 - accuracy: 0.9603 - val_loss: 0.1277 - val_accuracy: 0.9562\n",
            "Epoch 154/350\n",
            "25460/25460 [==============================] - 20s 788us/step - loss: 0.1223 - accuracy: 0.9597 - val_loss: 0.1272 - val_accuracy: 0.9566\n",
            "Epoch 155/350\n",
            "25460/25460 [==============================] - 20s 785us/step - loss: 0.1218 - accuracy: 0.9597 - val_loss: 0.1282 - val_accuracy: 0.9581\n",
            "Epoch 156/350\n",
            "25460/25460 [==============================] - 20s 788us/step - loss: 0.1204 - accuracy: 0.9594 - val_loss: 0.1284 - val_accuracy: 0.9560\n",
            "Epoch 157/350\n",
            "25460/25460 [==============================] - 20s 784us/step - loss: 0.1215 - accuracy: 0.9597 - val_loss: 0.1277 - val_accuracy: 0.9577\n",
            "Epoch 158/350\n",
            "25460/25460 [==============================] - 20s 784us/step - loss: 0.1199 - accuracy: 0.9603 - val_loss: 0.1263 - val_accuracy: 0.9579\n",
            "Epoch 159/350\n",
            "25460/25460 [==============================] - 20s 783us/step - loss: 0.1213 - accuracy: 0.9604 - val_loss: 0.1277 - val_accuracy: 0.9582\n",
            "Epoch 160/350\n",
            "25460/25460 [==============================] - 20s 783us/step - loss: 0.1211 - accuracy: 0.9592 - val_loss: 0.1264 - val_accuracy: 0.9581\n",
            "Epoch 161/350\n",
            "25460/25460 [==============================] - 20s 784us/step - loss: 0.1201 - accuracy: 0.9604 - val_loss: 0.1262 - val_accuracy: 0.9574\n",
            "Epoch 162/350\n",
            "25460/25460 [==============================] - 20s 786us/step - loss: 0.1200 - accuracy: 0.9601 - val_loss: 0.1270 - val_accuracy: 0.9566\n",
            "Epoch 163/350\n",
            "25460/25460 [==============================] - 20s 781us/step - loss: 0.1196 - accuracy: 0.9611 - val_loss: 0.1276 - val_accuracy: 0.9566\n",
            "Epoch 164/350\n",
            "25460/25460 [==============================] - 20s 781us/step - loss: 0.1197 - accuracy: 0.9603 - val_loss: 0.1284 - val_accuracy: 0.9582\n",
            "Epoch 165/350\n",
            "25460/25460 [==============================] - 20s 784us/step - loss: 0.1207 - accuracy: 0.9604 - val_loss: 0.1253 - val_accuracy: 0.9584\n",
            "Epoch 166/350\n",
            "25460/25460 [==============================] - 20s 783us/step - loss: 0.1188 - accuracy: 0.9606 - val_loss: 0.1255 - val_accuracy: 0.9576\n",
            "Epoch 167/350\n",
            "25460/25460 [==============================] - 20s 784us/step - loss: 0.1185 - accuracy: 0.9604 - val_loss: 0.1252 - val_accuracy: 0.9576\n",
            "Epoch 168/350\n",
            "25460/25460 [==============================] - 20s 782us/step - loss: 0.1180 - accuracy: 0.9615 - val_loss: 0.1256 - val_accuracy: 0.9581\n",
            "Epoch 169/350\n",
            "25460/25460 [==============================] - 20s 782us/step - loss: 0.1183 - accuracy: 0.9608 - val_loss: 0.1249 - val_accuracy: 0.9584\n",
            "Epoch 170/350\n",
            "25460/25460 [==============================] - 20s 784us/step - loss: 0.1173 - accuracy: 0.9607 - val_loss: 0.1253 - val_accuracy: 0.9573\n",
            "Epoch 171/350\n",
            "25460/25460 [==============================] - 20s 788us/step - loss: 0.1179 - accuracy: 0.9604 - val_loss: 0.1253 - val_accuracy: 0.9584\n",
            "Epoch 172/350\n",
            "25460/25460 [==============================] - 20s 784us/step - loss: 0.1180 - accuracy: 0.9609 - val_loss: 0.1268 - val_accuracy: 0.9577\n",
            "Epoch 173/350\n",
            "25460/25460 [==============================] - 20s 785us/step - loss: 0.1177 - accuracy: 0.9610 - val_loss: 0.1249 - val_accuracy: 0.9571\n",
            "Epoch 174/350\n",
            "25460/25460 [==============================] - 20s 784us/step - loss: 0.1180 - accuracy: 0.9605 - val_loss: 0.1244 - val_accuracy: 0.9581\n",
            "Epoch 175/350\n",
            "25460/25460 [==============================] - 20s 782us/step - loss: 0.1180 - accuracy: 0.9601 - val_loss: 0.1242 - val_accuracy: 0.9577\n",
            "Epoch 176/350\n",
            "25460/25460 [==============================] - 20s 782us/step - loss: 0.1176 - accuracy: 0.9604 - val_loss: 0.1240 - val_accuracy: 0.9579\n",
            "Epoch 177/350\n",
            "25460/25460 [==============================] - 20s 784us/step - loss: 0.1185 - accuracy: 0.9610 - val_loss: 0.1251 - val_accuracy: 0.9588\n",
            "Epoch 178/350\n",
            "25460/25460 [==============================] - 20s 788us/step - loss: 0.1172 - accuracy: 0.9607 - val_loss: 0.1246 - val_accuracy: 0.9581\n",
            "Epoch 179/350\n",
            "25460/25460 [==============================] - 20s 784us/step - loss: 0.1172 - accuracy: 0.9608 - val_loss: 0.1252 - val_accuracy: 0.9570\n",
            "Epoch 180/350\n",
            "25460/25460 [==============================] - 20s 782us/step - loss: 0.1170 - accuracy: 0.9603 - val_loss: 0.1237 - val_accuracy: 0.9584\n",
            "Epoch 181/350\n",
            "25460/25460 [==============================] - 20s 782us/step - loss: 0.1162 - accuracy: 0.9611 - val_loss: 0.1241 - val_accuracy: 0.9587\n",
            "Epoch 182/350\n",
            "25460/25460 [==============================] - 20s 784us/step - loss: 0.1171 - accuracy: 0.9623 - val_loss: 0.1236 - val_accuracy: 0.9576\n",
            "Epoch 183/350\n",
            "25460/25460 [==============================] - 20s 785us/step - loss: 0.1163 - accuracy: 0.9607 - val_loss: 0.1234 - val_accuracy: 0.9582\n",
            "Epoch 184/350\n",
            "25460/25460 [==============================] - 20s 785us/step - loss: 0.1169 - accuracy: 0.9615 - val_loss: 0.1243 - val_accuracy: 0.9579\n",
            "Epoch 185/350\n",
            "25460/25460 [==============================] - 20s 785us/step - loss: 0.1174 - accuracy: 0.9607 - val_loss: 0.1243 - val_accuracy: 0.9566\n",
            "Epoch 186/350\n",
            "25460/25460 [==============================] - 20s 790us/step - loss: 0.1155 - accuracy: 0.9609 - val_loss: 0.1237 - val_accuracy: 0.9588\n",
            "Epoch 187/350\n",
            "25460/25460 [==============================] - 20s 793us/step - loss: 0.1153 - accuracy: 0.9620 - val_loss: 0.1234 - val_accuracy: 0.9584\n",
            "Epoch 188/350\n",
            "25460/25460 [==============================] - 20s 786us/step - loss: 0.1158 - accuracy: 0.9625 - val_loss: 0.1230 - val_accuracy: 0.9584\n",
            "Epoch 189/350\n",
            "25460/25460 [==============================] - 20s 780us/step - loss: 0.1153 - accuracy: 0.9617 - val_loss: 0.1257 - val_accuracy: 0.9582\n",
            "Epoch 190/350\n",
            "25460/25460 [==============================] - 20s 781us/step - loss: 0.1143 - accuracy: 0.9614 - val_loss: 0.1246 - val_accuracy: 0.9582\n",
            "Epoch 191/350\n",
            "25460/25460 [==============================] - 20s 783us/step - loss: 0.1149 - accuracy: 0.9616 - val_loss: 0.1235 - val_accuracy: 0.9588\n",
            "Epoch 192/350\n",
            "25460/25460 [==============================] - 20s 780us/step - loss: 0.1145 - accuracy: 0.9614 - val_loss: 0.1273 - val_accuracy: 0.9568\n",
            "Epoch 193/350\n",
            "25460/25460 [==============================] - 20s 781us/step - loss: 0.1154 - accuracy: 0.9612 - val_loss: 0.1224 - val_accuracy: 0.9581\n",
            "Epoch 194/350\n",
            "25460/25460 [==============================] - 20s 797us/step - loss: 0.1136 - accuracy: 0.9619 - val_loss: 0.1240 - val_accuracy: 0.9584\n",
            "Epoch 195/350\n",
            "25460/25460 [==============================] - 20s 781us/step - loss: 0.1151 - accuracy: 0.9620 - val_loss: 0.1333 - val_accuracy: 0.9562\n",
            "Epoch 196/350\n",
            "25460/25460 [==============================] - 20s 780us/step - loss: 0.1139 - accuracy: 0.9616 - val_loss: 0.1228 - val_accuracy: 0.9588\n",
            "Epoch 197/350\n",
            "25460/25460 [==============================] - 20s 781us/step - loss: 0.1133 - accuracy: 0.9617 - val_loss: 0.1235 - val_accuracy: 0.9582\n",
            "Epoch 198/350\n",
            "25460/25460 [==============================] - 20s 780us/step - loss: 0.1140 - accuracy: 0.9619 - val_loss: 0.1231 - val_accuracy: 0.9576\n",
            "Epoch 199/350\n",
            "25460/25460 [==============================] - 20s 777us/step - loss: 0.1150 - accuracy: 0.9607 - val_loss: 0.1223 - val_accuracy: 0.9585\n",
            "Epoch 200/350\n",
            "25460/25460 [==============================] - 20s 778us/step - loss: 0.1133 - accuracy: 0.9619 - val_loss: 0.1237 - val_accuracy: 0.9582\n",
            "Epoch 201/350\n",
            "25460/25460 [==============================] - 20s 776us/step - loss: 0.1133 - accuracy: 0.9615 - val_loss: 0.1218 - val_accuracy: 0.9579\n",
            "Epoch 202/350\n",
            "25460/25460 [==============================] - 20s 781us/step - loss: 0.1133 - accuracy: 0.9623 - val_loss: 0.1243 - val_accuracy: 0.9588\n",
            "Epoch 203/350\n",
            "25460/25460 [==============================] - 20s 779us/step - loss: 0.1143 - accuracy: 0.9620 - val_loss: 0.1246 - val_accuracy: 0.9570\n",
            "Epoch 204/350\n",
            "25460/25460 [==============================] - 20s 776us/step - loss: 0.1137 - accuracy: 0.9626 - val_loss: 0.1242 - val_accuracy: 0.9581\n",
            "Epoch 205/350\n",
            "25460/25460 [==============================] - 20s 777us/step - loss: 0.1107 - accuracy: 0.9619 - val_loss: 0.1219 - val_accuracy: 0.9588\n",
            "Epoch 206/350\n",
            "25460/25460 [==============================] - 20s 778us/step - loss: 0.1118 - accuracy: 0.9619 - val_loss: 0.1215 - val_accuracy: 0.9576\n",
            "Epoch 207/350\n",
            "25460/25460 [==============================] - 19s 765us/step - loss: 0.1122 - accuracy: 0.9617 - val_loss: 0.1215 - val_accuracy: 0.9574\n",
            "Epoch 208/350\n",
            "25460/25460 [==============================] - 20s 779us/step - loss: 0.1117 - accuracy: 0.9623 - val_loss: 0.1222 - val_accuracy: 0.9596\n",
            "Epoch 209/350\n",
            "25460/25460 [==============================] - 20s 776us/step - loss: 0.1120 - accuracy: 0.9624 - val_loss: 0.1218 - val_accuracy: 0.9577\n",
            "Epoch 210/350\n",
            "25460/25460 [==============================] - 20s 776us/step - loss: 0.1115 - accuracy: 0.9632 - val_loss: 0.1217 - val_accuracy: 0.9588\n",
            "Epoch 211/350\n",
            "25460/25460 [==============================] - 20s 773us/step - loss: 0.1114 - accuracy: 0.9633 - val_loss: 0.1217 - val_accuracy: 0.9585\n",
            "Epoch 212/350\n",
            "25460/25460 [==============================] - 19s 764us/step - loss: 0.1112 - accuracy: 0.9626 - val_loss: 0.1223 - val_accuracy: 0.9584\n",
            "Epoch 213/350\n",
            "25460/25460 [==============================] - 19s 765us/step - loss: 0.1127 - accuracy: 0.9625 - val_loss: 0.1207 - val_accuracy: 0.9582\n",
            "Epoch 214/350\n",
            "25460/25460 [==============================] - 19s 756us/step - loss: 0.1116 - accuracy: 0.9619 - val_loss: 0.1232 - val_accuracy: 0.9576\n",
            "Epoch 215/350\n",
            "25460/25460 [==============================] - 19s 757us/step - loss: 0.1110 - accuracy: 0.9628 - val_loss: 0.1284 - val_accuracy: 0.9588\n",
            "Epoch 216/350\n",
            "25460/25460 [==============================] - 19s 757us/step - loss: 0.1117 - accuracy: 0.9626 - val_loss: 0.1232 - val_accuracy: 0.9587\n",
            "Epoch 217/350\n",
            "25460/25460 [==============================] - 19s 756us/step - loss: 0.1116 - accuracy: 0.9619 - val_loss: 0.1210 - val_accuracy: 0.9579\n",
            "Epoch 218/350\n",
            "25460/25460 [==============================] - 19s 761us/step - loss: 0.1091 - accuracy: 0.9634 - val_loss: 0.1209 - val_accuracy: 0.9592\n",
            "Epoch 219/350\n",
            "25460/25460 [==============================] - 19s 762us/step - loss: 0.1105 - accuracy: 0.9622 - val_loss: 0.1205 - val_accuracy: 0.9581\n",
            "Epoch 220/350\n",
            "25460/25460 [==============================] - 19s 758us/step - loss: 0.1103 - accuracy: 0.9627 - val_loss: 0.1206 - val_accuracy: 0.9595\n",
            "Epoch 221/350\n",
            "25460/25460 [==============================] - 19s 759us/step - loss: 0.1101 - accuracy: 0.9625 - val_loss: 0.1214 - val_accuracy: 0.9581\n",
            "Epoch 222/350\n",
            "25460/25460 [==============================] - 19s 759us/step - loss: 0.1097 - accuracy: 0.9634 - val_loss: 0.1209 - val_accuracy: 0.9579\n",
            "Epoch 223/350\n",
            "25460/25460 [==============================] - 19s 761us/step - loss: 0.1103 - accuracy: 0.9623 - val_loss: 0.1212 - val_accuracy: 0.9581\n",
            "Epoch 224/350\n",
            "25460/25460 [==============================] - 19s 760us/step - loss: 0.1099 - accuracy: 0.9633 - val_loss: 0.1216 - val_accuracy: 0.9587\n",
            "Epoch 225/350\n",
            "25460/25460 [==============================] - 19s 760us/step - loss: 0.1103 - accuracy: 0.9625 - val_loss: 0.1219 - val_accuracy: 0.9565\n",
            "Epoch 226/350\n",
            "25460/25460 [==============================] - 19s 761us/step - loss: 0.1095 - accuracy: 0.9627 - val_loss: 0.1204 - val_accuracy: 0.9584\n",
            "Epoch 227/350\n",
            "25460/25460 [==============================] - 19s 764us/step - loss: 0.1087 - accuracy: 0.9629 - val_loss: 0.1221 - val_accuracy: 0.9581\n",
            "Epoch 228/350\n",
            "25460/25460 [==============================] - 19s 762us/step - loss: 0.1083 - accuracy: 0.9629 - val_loss: 0.1206 - val_accuracy: 0.9581\n",
            "Epoch 229/350\n",
            "25460/25460 [==============================] - 19s 761us/step - loss: 0.1091 - accuracy: 0.9632 - val_loss: 0.1260 - val_accuracy: 0.9585\n",
            "Epoch 230/350\n",
            "25460/25460 [==============================] - 19s 761us/step - loss: 0.1075 - accuracy: 0.9638 - val_loss: 0.1230 - val_accuracy: 0.9585\n",
            "Epoch 231/350\n",
            "25460/25460 [==============================] - 19s 762us/step - loss: 0.1086 - accuracy: 0.9633 - val_loss: 0.1216 - val_accuracy: 0.9584\n",
            "Epoch 232/350\n",
            "25460/25460 [==============================] - 19s 763us/step - loss: 0.1079 - accuracy: 0.9632 - val_loss: 0.1204 - val_accuracy: 0.9584\n",
            "Epoch 233/350\n",
            "25460/25460 [==============================] - 19s 766us/step - loss: 0.1083 - accuracy: 0.9632 - val_loss: 0.1232 - val_accuracy: 0.9584\n",
            "Epoch 234/350\n",
            "25460/25460 [==============================] - 20s 769us/step - loss: 0.1087 - accuracy: 0.9633 - val_loss: 0.1209 - val_accuracy: 0.9579\n",
            "Epoch 235/350\n",
            "25460/25460 [==============================] - 20s 766us/step - loss: 0.1084 - accuracy: 0.9636 - val_loss: 0.1258 - val_accuracy: 0.9588\n",
            "Epoch 236/350\n",
            "25460/25460 [==============================] - 19s 764us/step - loss: 0.1069 - accuracy: 0.9630 - val_loss: 0.1200 - val_accuracy: 0.9571\n",
            "Epoch 237/350\n",
            "25460/25460 [==============================] - 19s 765us/step - loss: 0.1086 - accuracy: 0.9634 - val_loss: 0.1214 - val_accuracy: 0.9581\n",
            "Epoch 238/350\n",
            "25460/25460 [==============================] - 19s 763us/step - loss: 0.1067 - accuracy: 0.9632 - val_loss: 0.1194 - val_accuracy: 0.9592\n",
            "Epoch 239/350\n",
            "25460/25460 [==============================] - 20s 767us/step - loss: 0.1078 - accuracy: 0.9629 - val_loss: 0.1201 - val_accuracy: 0.9585\n",
            "Epoch 240/350\n",
            "25460/25460 [==============================] - 19s 765us/step - loss: 0.1080 - accuracy: 0.9626 - val_loss: 0.1207 - val_accuracy: 0.9582\n",
            "Epoch 241/350\n",
            "25460/25460 [==============================] - 19s 764us/step - loss: 0.1074 - accuracy: 0.9647 - val_loss: 0.1208 - val_accuracy: 0.9588\n",
            "Epoch 242/350\n",
            "25460/25460 [==============================] - 20s 766us/step - loss: 0.1082 - accuracy: 0.9632 - val_loss: 0.1201 - val_accuracy: 0.9581\n",
            "Epoch 243/350\n",
            "25460/25460 [==============================] - 20s 766us/step - loss: 0.1055 - accuracy: 0.9645 - val_loss: 0.1188 - val_accuracy: 0.9596\n",
            "Epoch 244/350\n",
            "25460/25460 [==============================] - 20s 769us/step - loss: 0.1047 - accuracy: 0.9636 - val_loss: 0.1212 - val_accuracy: 0.9581\n",
            "Epoch 245/350\n",
            "25460/25460 [==============================] - 20s 768us/step - loss: 0.1057 - accuracy: 0.9642 - val_loss: 0.1195 - val_accuracy: 0.9590\n",
            "Epoch 246/350\n",
            "25460/25460 [==============================] - 20s 771us/step - loss: 0.1066 - accuracy: 0.9632 - val_loss: 0.1188 - val_accuracy: 0.9595\n",
            "Epoch 247/350\n",
            "25460/25460 [==============================] - 20s 770us/step - loss: 0.1054 - accuracy: 0.9643 - val_loss: 0.1224 - val_accuracy: 0.9584\n",
            "Epoch 248/350\n",
            "25460/25460 [==============================] - 20s 772us/step - loss: 0.1059 - accuracy: 0.9644 - val_loss: 0.1294 - val_accuracy: 0.9584\n",
            "Epoch 249/350\n",
            "25460/25460 [==============================] - 20s 770us/step - loss: 0.1070 - accuracy: 0.9636 - val_loss: 0.1207 - val_accuracy: 0.9579\n",
            "Epoch 250/350\n",
            "25460/25460 [==============================] - 20s 778us/step - loss: 0.1060 - accuracy: 0.9637 - val_loss: 0.1218 - val_accuracy: 0.9592\n",
            "Epoch 251/350\n",
            "25460/25460 [==============================] - 20s 771us/step - loss: 0.1050 - accuracy: 0.9641 - val_loss: 0.1199 - val_accuracy: 0.9577\n",
            "Epoch 252/350\n",
            "25460/25460 [==============================] - 20s 769us/step - loss: 0.1065 - accuracy: 0.9634 - val_loss: 0.1191 - val_accuracy: 0.9587\n",
            "Epoch 253/350\n",
            "25460/25460 [==============================] - 20s 768us/step - loss: 0.1044 - accuracy: 0.9637 - val_loss: 0.1196 - val_accuracy: 0.9587\n",
            "Epoch 254/350\n",
            "25460/25460 [==============================] - 19s 763us/step - loss: 0.1056 - accuracy: 0.9636 - val_loss: 0.1184 - val_accuracy: 0.9587\n",
            "Epoch 255/350\n",
            "25460/25460 [==============================] - 19s 764us/step - loss: 0.1057 - accuracy: 0.9639 - val_loss: 0.1181 - val_accuracy: 0.9588\n",
            "Epoch 256/350\n",
            "25460/25460 [==============================] - 19s 764us/step - loss: 0.1058 - accuracy: 0.9634 - val_loss: 0.1200 - val_accuracy: 0.9596\n",
            "Epoch 257/350\n",
            "25460/25460 [==============================] - 19s 763us/step - loss: 0.1051 - accuracy: 0.9643 - val_loss: 0.1194 - val_accuracy: 0.9588\n",
            "Epoch 258/350\n",
            "25460/25460 [==============================] - 19s 760us/step - loss: 0.1047 - accuracy: 0.9641 - val_loss: 0.1198 - val_accuracy: 0.9601\n",
            "Epoch 259/350\n",
            "25460/25460 [==============================] - 19s 765us/step - loss: 0.1047 - accuracy: 0.9638 - val_loss: 0.1192 - val_accuracy: 0.9604\n",
            "Epoch 260/350\n",
            "25460/25460 [==============================] - 20s 770us/step - loss: 0.1044 - accuracy: 0.9649 - val_loss: 0.1191 - val_accuracy: 0.9592\n",
            "Epoch 261/350\n",
            "25460/25460 [==============================] - 20s 768us/step - loss: 0.1047 - accuracy: 0.9643 - val_loss: 0.1217 - val_accuracy: 0.9593\n",
            "Epoch 262/350\n",
            "25460/25460 [==============================] - 20s 769us/step - loss: 0.1055 - accuracy: 0.9644 - val_loss: 0.1179 - val_accuracy: 0.9596\n",
            "Epoch 263/350\n",
            "25460/25460 [==============================] - 20s 769us/step - loss: 0.1039 - accuracy: 0.9645 - val_loss: 0.1220 - val_accuracy: 0.9562\n",
            "Epoch 264/350\n",
            "25460/25460 [==============================] - 20s 766us/step - loss: 0.1035 - accuracy: 0.9639 - val_loss: 0.1220 - val_accuracy: 0.9590\n",
            "Epoch 265/350\n",
            "25460/25460 [==============================] - 20s 767us/step - loss: 0.1035 - accuracy: 0.9642 - val_loss: 0.1181 - val_accuracy: 0.9582\n",
            "Epoch 266/350\n",
            "25460/25460 [==============================] - 20s 773us/step - loss: 0.1033 - accuracy: 0.9637 - val_loss: 0.1178 - val_accuracy: 0.9571\n",
            "Epoch 267/350\n",
            "25460/25460 [==============================] - 20s 768us/step - loss: 0.1025 - accuracy: 0.9644 - val_loss: 0.1192 - val_accuracy: 0.9587\n",
            "Epoch 268/350\n",
            "25460/25460 [==============================] - 20s 769us/step - loss: 0.1041 - accuracy: 0.9648 - val_loss: 0.1177 - val_accuracy: 0.9599\n",
            "Epoch 269/350\n",
            "25460/25460 [==============================] - 20s 770us/step - loss: 0.1029 - accuracy: 0.9643 - val_loss: 0.1187 - val_accuracy: 0.9592\n",
            "Epoch 270/350\n",
            "25460/25460 [==============================] - 20s 767us/step - loss: 0.1033 - accuracy: 0.9641 - val_loss: 0.1181 - val_accuracy: 0.9588\n",
            "Epoch 271/350\n",
            "25460/25460 [==============================] - 20s 769us/step - loss: 0.1025 - accuracy: 0.9648 - val_loss: 0.1184 - val_accuracy: 0.9584\n",
            "Epoch 272/350\n",
            "25460/25460 [==============================] - 20s 771us/step - loss: 0.1019 - accuracy: 0.9650 - val_loss: 0.1189 - val_accuracy: 0.9581\n",
            "Epoch 273/350\n",
            "25460/25460 [==============================] - 20s 775us/step - loss: 0.1037 - accuracy: 0.9644 - val_loss: 0.1178 - val_accuracy: 0.9587\n",
            "Epoch 274/350\n",
            "25460/25460 [==============================] - 20s 775us/step - loss: 0.1031 - accuracy: 0.9637 - val_loss: 0.1198 - val_accuracy: 0.9577\n",
            "Epoch 275/350\n",
            "25460/25460 [==============================] - 20s 773us/step - loss: 0.1033 - accuracy: 0.9645 - val_loss: 0.1172 - val_accuracy: 0.9596\n",
            "Epoch 276/350\n",
            "25460/25460 [==============================] - 20s 774us/step - loss: 0.1035 - accuracy: 0.9641 - val_loss: 0.1174 - val_accuracy: 0.9604\n",
            "Epoch 277/350\n",
            "25460/25460 [==============================] - 20s 776us/step - loss: 0.1021 - accuracy: 0.9650 - val_loss: 0.1182 - val_accuracy: 0.9588\n",
            "Epoch 278/350\n",
            "25460/25460 [==============================] - 20s 774us/step - loss: 0.1028 - accuracy: 0.9650 - val_loss: 0.1254 - val_accuracy: 0.9566\n",
            "Epoch 279/350\n",
            "25460/25460 [==============================] - 20s 774us/step - loss: 0.1005 - accuracy: 0.9651 - val_loss: 0.1206 - val_accuracy: 0.9574\n",
            "Epoch 280/350\n",
            "25460/25460 [==============================] - 20s 775us/step - loss: 0.1023 - accuracy: 0.9645 - val_loss: 0.1180 - val_accuracy: 0.9579\n",
            "Epoch 281/350\n",
            "25460/25460 [==============================] - 20s 775us/step - loss: 0.1016 - accuracy: 0.9648 - val_loss: 0.1173 - val_accuracy: 0.9592\n",
            "Epoch 282/350\n",
            "25460/25460 [==============================] - 20s 780us/step - loss: 0.1020 - accuracy: 0.9647 - val_loss: 0.1186 - val_accuracy: 0.9592\n",
            "Epoch 283/350\n",
            "25460/25460 [==============================] - 20s 773us/step - loss: 0.1013 - accuracy: 0.9644 - val_loss: 0.1171 - val_accuracy: 0.9592\n",
            "Epoch 284/350\n",
            "25460/25460 [==============================] - 20s 773us/step - loss: 0.1003 - accuracy: 0.9662 - val_loss: 0.1170 - val_accuracy: 0.9593\n",
            "Epoch 285/350\n",
            "25460/25460 [==============================] - 20s 774us/step - loss: 0.1016 - accuracy: 0.9657 - val_loss: 0.1164 - val_accuracy: 0.9587\n",
            "Epoch 286/350\n",
            "25460/25460 [==============================] - 20s 777us/step - loss: 0.1012 - accuracy: 0.9654 - val_loss: 0.1237 - val_accuracy: 0.9584\n",
            "Epoch 287/350\n",
            "25460/25460 [==============================] - 20s 775us/step - loss: 0.1010 - accuracy: 0.9650 - val_loss: 0.1178 - val_accuracy: 0.9592\n",
            "Epoch 288/350\n",
            "25460/25460 [==============================] - 20s 776us/step - loss: 0.1005 - accuracy: 0.9644 - val_loss: 0.1170 - val_accuracy: 0.9595\n",
            "Epoch 289/350\n",
            "25460/25460 [==============================] - 20s 775us/step - loss: 0.0994 - accuracy: 0.9653 - val_loss: 0.1180 - val_accuracy: 0.9585\n",
            "Epoch 290/350\n",
            " 7744/25460 [========>.....................] - ETA: 12s - loss: 0.1051 - accuracy: 0.9658Buffered data was truncated after reaching the output size limit."
          ],
          "name": "stdout"
        }
      ]
    },
    {
      "cell_type": "markdown",
      "metadata": {
        "id": "W7pwU50koY_C",
        "colab_type": "text"
      },
      "source": [
        "# Saving model Weights "
      ]
    },
    {
      "cell_type": "markdown",
      "metadata": {
        "id": "XSyn3wmIod_r",
        "colab_type": "text"
      },
      "source": [
        "saving model weights will help in deployment, future use, Transfer Learning etc"
      ]
    },
    {
      "cell_type": "code",
      "metadata": {
        "id": "lRwjmJeQoqLZ",
        "colab_type": "code",
        "colab": {}
      },
      "source": [
        "# pickle module used for dumping the model\n",
        "import pickle as pk\n",
        "with open('/content/drive/My Drive/malaria/malaria_model.pkl','wb') as model_file:\n",
        "    pk.dump(model,model_file)"
      ],
      "execution_count": 0,
      "outputs": []
    },
    {
      "cell_type": "markdown",
      "metadata": {
        "id": "XrvIsG1NmMx_",
        "colab_type": "text"
      },
      "source": [
        "# Model Evaluation Analysis"
      ]
    },
    {
      "cell_type": "code",
      "metadata": {
        "id": "Xz-HMMO1A1Ik",
        "colab_type": "code",
        "outputId": "60f2295e-3693-47ee-cb13-52ee9442db38",
        "colab": {
          "base_uri": "https://localhost:8080/",
          "height": 480
        }
      },
      "source": [
        "# model Accuracy Analysis\n",
        "plt.figure(figsize=(10,7))\n",
        "train_acc = history.history['accuracy'] \n",
        "test_acc = history.history['val_accuracy']\n",
        "plt.plot(train_acc)\n",
        "plt.plot(test_acc)\n",
        "plt.title('Model Accuracy...',fontsize=20)\n",
        "plt.xlabel('epochs')\n",
        "plt.ylabel('accuracy')\n",
        "plt.legend(['Train','Test'],loc='upper left')"
      ],
      "execution_count": 34,
      "outputs": [
        {
          "output_type": "execute_result",
          "data": {
            "text/plain": [
              "<matplotlib.legend.Legend at 0x7f225843f160>"
            ]
          },
          "metadata": {
            "tags": []
          },
          "execution_count": 34
        },
        {
          "output_type": "display_data",
          "data": {
            "image/png": "[encoded data removed]",
            "text/plain": [
              "<Figure size 720x504 with 1 Axes>"
            ]
          },
          "metadata": {
            "tags": [],
            "needs_background": "light"
          }
        }
      ]
    },
    {
      "cell_type": "code",
      "metadata": {
        "id": "LV4ujHi0tFpv",
        "colab_type": "code",
        "outputId": "4236d4c5-94f7-40e5-de89-429f1cbfe827",
        "colab": {
          "base_uri": "https://localhost:8080/",
          "height": 480
        }
      },
      "source": [
        "# model Loss Analysis\n",
        "plt.figure(figsize=(10,7))\n",
        "train_loss = history.history['loss'] \n",
        "test_loss = history.history['val_loss']\n",
        "plt.plot(train_loss)\n",
        "plt.plot(test_loss)\n",
        "plt.title('Model Loss...',fontsize=20)\n",
        "plt.xlabel('epochs')\n",
        "plt.ylabel('Loss')\n",
        "plt.legend(['Train','Test'],loc='upper right')"
      ],
      "execution_count": 35,
      "outputs": [
        {
          "output_type": "execute_result",
          "data": {
            "text/plain": [
              "<matplotlib.legend.Legend at 0x7f2258397e10>"
            ]
          },
          "metadata": {
            "tags": []
          },
          "execution_count": 35
        },
        {
          "output_type": "display_data",
          "data": {
            "image/png": "[encoded data removed]",
            "text/plain": [
              "<Figure size 720x504 with 1 Axes>"
            ]
          },
          "metadata": {
            "tags": [],
            "needs_background": "light"
          }
        }
      ]
    },
    {
      "cell_type": "code",
      "metadata": {
        "id": "mwUu3H-O0B0t",
        "colab_type": "code",
        "outputId": "c2f5d8cd-05dd-4516-d02d-2271d7a8ca61",
        "colab": {
          "base_uri": "https://localhost:8080/",
          "height": 304
        }
      },
      "source": [
        "# confusion Matrix\n",
        "y_pred = model.predict(x_test)\n",
        "cm = confusion_matrix(np.round(y_pred[:,0]),y_test[:,0])\n",
        "sns.heatmap(cm/len(y_test), annot=True, fmt='.2%', cmap='Blues')\n",
        "plt.title('Confusion Matrix',fontsize=20)"
      ],
      "execution_count": 36,
      "outputs": [
        {
          "output_type": "execute_result",
          "data": {
            "text/plain": [
              "Text(0.5, 1.0, 'Confusion Matrix')"
            ]
          },
          "metadata": {
            "tags": []
          },
          "execution_count": 36
        },
        {
          "output_type": "display_data",
          "data": {
            "image/png": "[encoded data removed]",
            "text/plain": [
              "<Figure size 432x288 with 2 Axes>"
            ]
          },
          "metadata": {
            "tags": [],
            "needs_background": "light"
          }
        }
      ]
    },
    {
      "cell_type": "markdown",
      "metadata": {
        "id": "wAUdIkE1wV7p",
        "colab_type": "text"
      },
      "source": [
        "."
      ]
    },
    {
      "cell_type": "markdown",
      "metadata": {
        "id": "QEpGZxDxh-k3",
        "colab_type": "text"
      },
      "source": [
        "#Transfer Learning"
      ]
    },
    {
      "cell_type": "markdown",
      "metadata": {
        "id": "Wpla4V_lerHa",
        "colab_type": "text"
      },
      "source": [
        "Transfer Learning is an effective Model Tranining Technique used to train the model on weights of a sucessfully trained model."
      ]
    },
    {
      "cell_type": "markdown",
      "metadata": {
        "id": "VBjKcBFYfeTm",
        "colab_type": "text"
      },
      "source": [
        "Here we uses a very renouned model of VGG 16 which is the winner of ImageNet comptition 2014. This Model Already Present in keras Documentation.\n",
        "\n",
        "   **Benifits**\n",
        "\n",
        "*   Very Less time requirement\n",
        "*   Great Accuracy\n",
        "*   Almost no or very less computational resources required\n",
        "*   Fast & effective\n",
        "\n",
        "\n",
        "\n"
      ]
    },
    {
      "cell_type": "code",
      "metadata": {
        "id": "CZtpDhChteX8",
        "colab_type": "code",
        "colab": {
          "base_uri": "https://localhost:8080/",
          "height": 832
        },
        "outputId": "1714b610-1449-46d6-97b0-588574deaa17"
      },
      "source": [
        "from keras.applications.vgg16 import VGG16\n",
        "\n",
        "image_shape = x_train[0].shape\n",
        "VGG16_custom_model = VGG16(input_shape = image_shape, weights ='imagenet',include_top =False)\n",
        "\n",
        "for layer in VGG16_custom_model.layers:\n",
        "    layer.trainable = False\n",
        "\n",
        "print(VGG16_custom_model.summary())"
      ],
      "execution_count": 56,
      "outputs": [
        {
          "output_type": "stream",
          "text": [
            "Model: \"vgg16\"\n",
            "_________________________________________________________________\n",
            "Layer (type)                 Output Shape              Param #   \n",
            "=================================================================\n",
            "input_2 (InputLayer)         (None, 100, 100, 3)       0         \n",
            "_________________________________________________________________\n",
            "block1_conv1 (Conv2D)        (None, 100, 100, 64)      1792      \n",
            "_________________________________________________________________\n",
            "block1_conv2 (Conv2D)        (None, 100, 100, 64)      36928     \n",
            "_________________________________________________________________\n",
            "block1_pool (MaxPooling2D)   (None, 50, 50, 64)        0         \n",
            "_________________________________________________________________\n",
            "block2_conv1 (Conv2D)        (None, 50, 50, 128)       73856     \n",
            "_________________________________________________________________\n",
            "block2_conv2 (Conv2D)        (None, 50, 50, 128)       147584    \n",
            "_________________________________________________________________\n",
            "block2_pool (MaxPooling2D)   (None, 25, 25, 128)       0         \n",
            "_________________________________________________________________\n",
            "block3_conv1 (Conv2D)        (None, 25, 25, 256)       295168    \n",
            "_________________________________________________________________\n",
            "block3_conv2 (Conv2D)        (None, 25, 25, 256)       590080    \n",
            "_________________________________________________________________\n",
            "block3_conv3 (Conv2D)        (None, 25, 25, 256)       590080    \n",
            "_________________________________________________________________\n",
            "block3_pool (MaxPooling2D)   (None, 12, 12, 256)       0         \n",
            "_________________________________________________________________\n",
            "block4_conv1 (Conv2D)        (None, 12, 12, 512)       1180160   \n",
            "_________________________________________________________________\n",
            "block4_conv2 (Conv2D)        (None, 12, 12, 512)       2359808   \n",
            "_________________________________________________________________\n",
            "block4_conv3 (Conv2D)        (None, 12, 12, 512)       2359808   \n",
            "_________________________________________________________________\n",
            "block4_pool (MaxPooling2D)   (None, 6, 6, 512)         0         \n",
            "_________________________________________________________________\n",
            "block5_conv1 (Conv2D)        (None, 6, 6, 512)         2359808   \n",
            "_________________________________________________________________\n",
            "block5_conv2 (Conv2D)        (None, 6, 6, 512)         2359808   \n",
            "_________________________________________________________________\n",
            "block5_conv3 (Conv2D)        (None, 6, 6, 512)         2359808   \n",
            "_________________________________________________________________\n",
            "block5_pool (MaxPooling2D)   (None, 3, 3, 512)         0         \n",
            "=================================================================\n",
            "Total params: 14,714,688\n",
            "Trainable params: 0\n",
            "Non-trainable params: 14,714,688\n",
            "_________________________________________________________________\n",
            "None\n"
          ],
          "name": "stdout"
        }
      ]
    },
    {
      "cell_type": "markdown",
      "metadata": {
        "id": "Kk6M-TV4986w",
        "colab_type": "text"
      },
      "source": [
        "**Creating the Custom VGG-16 model for our Data-Set**"
      ]
    },
    {
      "cell_type": "markdown",
      "metadata": {
        "id": "71y76zdS0hvF",
        "colab_type": "text"
      },
      "source": [
        "Parameters : \n",
        "\n",
        "*   Batch Size = 64\n",
        "*   epochs = 10\n",
        "*   Dropout = None\n",
        "*   weight = Pretrained imagenet weights  \n",
        "\n"
      ]
    },
    {
      "cell_type": "code",
      "metadata": {
        "id": "rslNjZCJ_Nhh",
        "colab_type": "code",
        "colab": {
          "base_uri": "https://localhost:8080/",
          "height": 936
        },
        "outputId": "e1b33b8d-4c8d-47a2-89b2-53b9642f4e38"
      },
      "source": [
        "from keras.layers import Dense,Flatten\n",
        "from keras.models import Model\n",
        "from keras import optimizers\n",
        "\n",
        "batch_size = 64\n",
        "epochs = 10\n",
        "\n",
        "# number of classes\n",
        "num_classes = len(y_train[0])\n",
        "\n",
        "# adding outputs\n",
        "flatten = Flatten()(VGG16_custom_model.output)\n",
        "\n",
        "# Fully Connected Layers\n",
        "dense1 = Dense(1024,activation='relu')(flatten)\n",
        "\n",
        "dense2 = Dense(num_classes ,activation = 'softmax')(dense1)\n",
        "\n",
        "# Final custom Model\n",
        "model = Model(inputs = VGG16_custom_model.input,outputs = dense2)\n",
        "print(model.summary())"
      ],
      "execution_count": 57,
      "outputs": [
        {
          "output_type": "stream",
          "text": [
            "Model: \"model_3\"\n",
            "_________________________________________________________________\n",
            "Layer (type)                 Output Shape              Param #   \n",
            "=================================================================\n",
            "input_2 (InputLayer)         (None, 100, 100, 3)       0         \n",
            "_________________________________________________________________\n",
            "block1_conv1 (Conv2D)        (None, 100, 100, 64)      1792      \n",
            "_________________________________________________________________\n",
            "block1_conv2 (Conv2D)        (None, 100, 100, 64)      36928     \n",
            "_________________________________________________________________\n",
            "block1_pool (MaxPooling2D)   (None, 50, 50, 64)        0         \n",
            "_________________________________________________________________\n",
            "block2_conv1 (Conv2D)        (None, 50, 50, 128)       73856     \n",
            "_________________________________________________________________\n",
            "block2_conv2 (Conv2D)        (None, 50, 50, 128)       147584    \n",
            "_________________________________________________________________\n",
            "block2_pool (MaxPooling2D)   (None, 25, 25, 128)       0         \n",
            "_________________________________________________________________\n",
            "block3_conv1 (Conv2D)        (None, 25, 25, 256)       295168    \n",
            "_________________________________________________________________\n",
            "block3_conv2 (Conv2D)        (None, 25, 25, 256)       590080    \n",
            "_________________________________________________________________\n",
            "block3_conv3 (Conv2D)        (None, 25, 25, 256)       590080    \n",
            "_________________________________________________________________\n",
            "block3_pool (MaxPooling2D)   (None, 12, 12, 256)       0         \n",
            "_________________________________________________________________\n",
            "block4_conv1 (Conv2D)        (None, 12, 12, 512)       1180160   \n",
            "_________________________________________________________________\n",
            "block4_conv2 (Conv2D)        (None, 12, 12, 512)       2359808   \n",
            "_________________________________________________________________\n",
            "block4_conv3 (Conv2D)        (None, 12, 12, 512)       2359808   \n",
            "_________________________________________________________________\n",
            "block4_pool (MaxPooling2D)   (None, 6, 6, 512)         0         \n",
            "_________________________________________________________________\n",
            "block5_conv1 (Conv2D)        (None, 6, 6, 512)         2359808   \n",
            "_________________________________________________________________\n",
            "block5_conv2 (Conv2D)        (None, 6, 6, 512)         2359808   \n",
            "_________________________________________________________________\n",
            "block5_conv3 (Conv2D)        (None, 6, 6, 512)         2359808   \n",
            "_________________________________________________________________\n",
            "block5_pool (MaxPooling2D)   (None, 3, 3, 512)         0         \n",
            "_________________________________________________________________\n",
            "flatten_3 (Flatten)          (None, 4608)              0         \n",
            "_________________________________________________________________\n",
            "dense_5 (Dense)              (None, 1024)              4719616   \n",
            "_________________________________________________________________\n",
            "dense_6 (Dense)              (None, 2)                 2050      \n",
            "=================================================================\n",
            "Total params: 19,436,354\n",
            "Trainable params: 4,721,666\n",
            "Non-trainable params: 14,714,688\n",
            "_________________________________________________________________\n",
            "None\n"
          ],
          "name": "stdout"
        }
      ]
    },
    {
      "cell_type": "markdown",
      "metadata": {
        "id": "UIF7a7pjJ7BU",
        "colab_type": "text"
      },
      "source": [
        "Model Compilation and Execution....."
      ]
    },
    {
      "cell_type": "code",
      "metadata": {
        "id": "DKzVrGlJNCi7",
        "colab_type": "code",
        "colab": {
          "base_uri": "https://localhost:8080/",
          "height": 381
        },
        "outputId": "9e5db293-a3fa-439c-d667-8a27b3f6219e"
      },
      "source": [
        "model.compile(optimizer = optimizers.Adam(lr = 0.001), loss = 'binary_crossentropy', metrics = ['accuracy'])\n",
        "\n",
        "vgg_history = model.fit(x_train,y_train,batch_size = batch_size,epochs = epochs, validation_data = (x_test,y_test))\n",
        "# _ var is like ans variable in python"
      ],
      "execution_count": 58,
      "outputs": [
        {
          "output_type": "stream",
          "text": [
            "Train on 25460 samples, validate on 6365 samples\n",
            "Epoch 1/10\n",
            "25460/25460 [==============================] - 23s 890us/step - loss: 0.2048 - accuracy: 0.9281 - val_loss: 0.1683 - val_accuracy: 0.9361\n",
            "Epoch 2/10\n",
            "25460/25460 [==============================] - 22s 880us/step - loss: 0.1393 - accuracy: 0.9501 - val_loss: 0.1328 - val_accuracy: 0.9544\n",
            "Epoch 3/10\n",
            "25460/25460 [==============================] - 23s 892us/step - loss: 0.1283 - accuracy: 0.9517 - val_loss: 0.1294 - val_accuracy: 0.9551\n",
            "Epoch 4/10\n",
            "25460/25460 [==============================] - 23s 891us/step - loss: 0.1150 - accuracy: 0.9570 - val_loss: 0.1408 - val_accuracy: 0.9493\n",
            "Epoch 5/10\n",
            "25460/25460 [==============================] - 23s 890us/step - loss: 0.1093 - accuracy: 0.9608 - val_loss: 0.1358 - val_accuracy: 0.9522\n",
            "Epoch 6/10\n",
            "25460/25460 [==============================] - 23s 891us/step - loss: 0.0971 - accuracy: 0.9624 - val_loss: 0.1312 - val_accuracy: 0.9532\n",
            "Epoch 7/10\n",
            "25460/25460 [==============================] - 23s 889us/step - loss: 0.0879 - accuracy: 0.9688 - val_loss: 0.1624 - val_accuracy: 0.9430\n",
            "Epoch 8/10\n",
            "25460/25460 [==============================] - 23s 896us/step - loss: 0.0768 - accuracy: 0.9716 - val_loss: 0.1512 - val_accuracy: 0.9489\n",
            "Epoch 9/10\n",
            "25460/25460 [==============================] - 23s 894us/step - loss: 0.0711 - accuracy: 0.9741 - val_loss: 0.1698 - val_accuracy: 0.9530\n",
            "Epoch 10/10\n",
            "25460/25460 [==============================] - 23s 890us/step - loss: 0.0600 - accuracy: 0.9776 - val_loss: 0.1646 - val_accuracy: 0.9504\n"
          ],
          "name": "stdout"
        }
      ]
    },
    {
      "cell_type": "markdown",
      "metadata": {
        "id": "FKuNXTAQLXgU",
        "colab_type": "text"
      },
      "source": [
        "# Saving the VGG16 Custom Model File  \n",
        "\n",
        "saved model will later used for Deployment, Transfer Learning"
      ]
    },
    {
      "cell_type": "code",
      "metadata": {
        "id": "wVE4EdGomlph",
        "colab_type": "code",
        "colab": {}
      },
      "source": [
        "# pickle module used for dumping the model\n",
        "import pickle as pk\n",
        "with open('/content/drive/My Drive/malaria/malaria_VGGmodel.pkl','wb') as model_file:\n",
        "    pk.dump(model,model_file)"
      ],
      "execution_count": 0,
      "outputs": []
    },
    {
      "cell_type": "markdown",
      "metadata": {
        "id": "PAJTmeejJ5t8",
        "colab_type": "text"
      },
      "source": [
        "#Ensamble Techniques"
      ]
    },
    {
      "cell_type": "markdown",
      "metadata": {
        "id": "x7xX9wVmKR6E",
        "colab_type": "text"
      },
      "source": [
        "As in Both the cases we get the accuracy around 95% and we understand the citicality of Data so, we must have to try rrduce the mis-classification as much as possible"
      ]
    },
    {
      "cell_type": "markdown",
      "metadata": {
        "id": "IqiuvSV3Ks_r",
        "colab_type": "text"
      },
      "source": [
        "We uses a Bagging Approch for our Ensamble Methord with goes with average or Majority Prediction of all Models.\n",
        "\n",
        "This approch helps to reduce the Miscalssifications upto 1.5% "
      ]
    },
    {
      "cell_type": "code",
      "metadata": {
        "id": "s7v1_KeiGJdY",
        "colab_type": "code",
        "colab": {
          "base_uri": "https://localhost:8080/",
          "height": 34
        },
        "outputId": "2c0159ba-22db-48fe-a9bb-8d5ddb038e95"
      },
      "source": [
        "import pickle as pk\n",
        "all_models = []\n",
        "\n",
        "with open('/content/drive/My Drive/malaria/malaria_VGGmodel.pkl','rb') as model_file:\n",
        "    model = pk.load(model_file)\n",
        "    all_models.append(model)\n",
        "\n",
        "with open('/content/drive/My Drive/malaria/malaria_model.pkl','rb') as model_file:\n",
        "    model = pk.load(model_file)\n",
        "    all_models.append(model)\n",
        "\n",
        "print('Total models : ',len(all_models))"
      ],
      "execution_count": 60,
      "outputs": [
        {
          "output_type": "stream",
          "text": [
            "Total models :  2\n"
          ],
          "name": "stdout"
        }
      ]
    },
    {
      "cell_type": "markdown",
      "metadata": {
        "id": "7YVWlJ8zS3ib",
        "colab_type": "text"
      },
      "source": [
        "**Prediction from Ensamble Model**"
      ]
    },
    {
      "cell_type": "code",
      "metadata": {
        "id": "FdLyJT0SGJkV",
        "colab_type": "code",
        "colab": {
          "base_uri": "https://localhost:8080/",
          "height": 138
        },
        "outputId": "c931b77b-e8ab-4fda-daec-9d6d48e2b376"
      },
      "source": [
        "predictions = []\n",
        "\n",
        "for model in all_models:\n",
        "    predictions.append(model.predict(x_test))\n",
        "\n",
        "output = np.round(np.divide(sum(predictions),2))\n",
        "actual = y_test\n",
        "print(output)"
      ],
      "execution_count": 61,
      "outputs": [
        {
          "output_type": "stream",
          "text": [
            "[[1. 0.]\n",
            " [1. 0.]\n",
            " [1. 0.]\n",
            " ...\n",
            " [1. 0.]\n",
            " [1. 0.]\n",
            " [1. 0.]]\n"
          ],
          "name": "stdout"
        }
      ]
    },
    {
      "cell_type": "code",
      "metadata": {
        "id": "d3mnpourGJrf",
        "colab_type": "code",
        "colab": {
          "base_uri": "https://localhost:8080/",
          "height": 282
        },
        "outputId": "7657779f-b46e-4078-d493-589a88ccc129"
      },
      "source": [
        "cm = confusion_matrix(actual[:,0],output[:,0])\n",
        "sns.heatmap(cm/len(actual),fmt='.2%',annot=True,cmap='Blues')"
      ],
      "execution_count": 62,
      "outputs": [
        {
          "output_type": "execute_result",
          "data": {
            "text/plain": [
              "<matplotlib.axes._subplots.AxesSubplot at 0x7ff325371f98>"
            ]
          },
          "metadata": {
            "tags": []
          },
          "execution_count": 62
        },
        {
          "output_type": "display_data",
          "data": {
            "image/png": "[encoded data removed]",
            "text/plain": [
              "<Figure size 432x288 with 2 Axes>"
            ]
          },
          "metadata": {
            "tags": [],
            "needs_background": "light"
          }
        }
      ]
    },
    {
      "cell_type": "markdown",
      "metadata": {
        "id": "I6I0cwYTSo13",
        "colab_type": "text"
      },
      "source": [
        "# Complete Project Evaluation...."
      ]
    },
    {
      "cell_type": "markdown",
      "metadata": {
        "id": "9MvW4YleSuWL",
        "colab_type": "text"
      },
      "source": [
        "This Section responsible for evaluation of all three models\n"
      ]
    },
    {
      "cell_type": "code",
      "metadata": {
        "id": "skq4L7m9EYod",
        "colab_type": "code",
        "colab": {
          "base_uri": "https://localhost:8080/",
          "height": 465
        },
        "outputId": "cae72833-5e33-407d-97c0-6f35ca1c29f7"
      },
      "source": [
        "f,ax = plt.subplots(1,3)\n",
        "f.set_figheight(7)\n",
        "f.set_figwidth(22)\n",
        "\n",
        "# all model output in single axis\n",
        "output_custom = np.round(all_models[1].predict(x_test))[:,0] \n",
        "output_vgg = np.round(all_models[0].predict(x_test))[:,0]\n",
        "output_ensamble = output[:,0]\n",
        "\n",
        "# roc curves\n",
        "a1,b1,c1=roc_curve(y_test[:,0],output_custom)\n",
        "a2,b2,c2=roc_curve(y_test[:,0],output_vgg)\n",
        "a3,b3,c3=roc_curve(y_test[:,0],output_ensamble)\n",
        "\n",
        "# visulizing ROC \n",
        "ax[0].plot(a1,b1,color='orange')\n",
        "ax[0].set_title('Custom Model',fontsize=17)\n",
        "\n",
        "ax[1].plot(a2,b2,color='orange')\n",
        "ax[1].set_title('VGG_16 Model',fontsize=17)\n",
        "\n",
        "ax[2].plot(a3,b3,color='orange')\n",
        "ax[2].set_title('Ensamble Model',fontsize=17)"
      ],
      "execution_count": 94,
      "outputs": [
        {
          "output_type": "execute_result",
          "data": {
            "text/plain": [
              "Text(0.5, 1.0, 'Ensamble Model')"
            ]
          },
          "metadata": {
            "tags": []
          },
          "execution_count": 94
        },
        {
          "output_type": "display_data",
          "data": {
            "image/png": "[encoded data removed]",
            "text/plain": [
              "<Figure size 1584x504 with 3 Axes>"
            ]
          },
          "metadata": {
            "tags": [],
            "needs_background": "light"
          }
        }
      ]
    },
    {
      "cell_type": "markdown",
      "metadata": {
        "id": "WGS0dPZCQFOo",
        "colab_type": "text"
      },
      "source": [
        "**Calculating all aspects of Evaluation** "
      ]
    },
    {
      "cell_type": "code",
      "metadata": {
        "id": "WQMxUqd6J8Gh",
        "colab_type": "code",
        "colab": {}
      },
      "source": [
        "y_test_custom = np.divide(((y_test[:,0]-output_custom)==0).sum(),len(actual))*100\n",
        "y_test_vgg16 = np.divide(((y_test[:,0]-output_vgg)==0).sum(),len(actual))*100\n",
        "y_test_combined = np.divide(((y_test[:,0]-output_ensamble)==0).sum(),len(actual))*100\n",
        "\n",
        "missclass_custom = confusion_matrix(y_test[:,0],np.round(all_models[1].predict(x_test)[:,0]))/len(y_test)\n",
        "missclass_custom = (missclass_custom[0,1]+missclass_custom[1,0])*100\n",
        "\n",
        "missclass_vgg = confusion_matrix(y_test[:,0],np.round(all_models[0].predict(x_test)[:,0]))/len(y_test)\n",
        "missclass_vgg = (missclass_vgg[0,1] + missclass_vgg[1,0])* 100\n",
        "\n",
        "missclass_combined = confusion_matrix(y_test[:,0],output[:,0])/len(y_test)\n",
        "missclass_combined =  (missclass_combined[0,1] + missclass_combined[1,0])*100\n",
        "\n",
        "roc_custom = roc_auc_score(y_test[:,0],output_custom)\n",
        "roc_vgg = roc_auc_score(y_test[:,0],output_vgg)\n",
        "roc_ensamble = roc_auc_score(y_test[:,0],output_ensamble)\n"
      ],
      "execution_count": 0,
      "outputs": []
    },
    {
      "cell_type": "markdown",
      "metadata": {
        "id": "tLJHqer1QTQ3",
        "colab_type": "text"
      },
      "source": [
        "**Result Evaluation**"
      ]
    },
    {
      "cell_type": "code",
      "metadata": {
        "id": "MHDV3hYqJ8Y6",
        "colab_type": "code",
        "colab": {
          "base_uri": "https://localhost:8080/",
          "height": 141
        },
        "outputId": "da62fc07-9478-4cb3-b349-5614e84f49d2"
      },
      "source": [
        "df = pd.DataFrame(\n",
        "                  np.array([[y_test_custom, missclass_custom, roc_custom],\n",
        "                            [y_test_vgg16,missclass_vgg, roc_vgg],\n",
        "                            [y_test_combined,missclass_combined, roc_ensamble]]),\n",
        "                  index = ['Custom Model','VGG_16 Model','Ensamble Model'],\n",
        "                  columns=['Accuracy (%)','Misclassified (%)','AUC score']\n",
        "                  )\n",
        "df"
      ],
      "execution_count": 99,
      "outputs": [
        {
          "output_type": "execute_result",
          "data": {
            "text/html": [
              "<div>\n",
              "<style scoped>\n",
              "    .dataframe tbody tr th:only-of-type {\n",
              "        vertical-align: middle;\n",
              "    }\n",
              "\n",
              "    .dataframe tbody tr th {\n",
              "        vertical-align: top;\n",
              "    }\n",
              "\n",
              "    .dataframe thead th {\n",
              "        text-align: right;\n",
              "    }\n",
              "</style>\n",
              "<table border=\"1\" class=\"dataframe\">\n",
              "  <thead>\n",
              "    <tr style=\"text-align: right;\">\n",
              "      <th></th>\n",
              "      <th>Accuracy (%)</th>\n",
              "      <th>Misclassified (%)</th>\n",
              "      <th>AUC score</th>\n",
              "    </tr>\n",
              "  </thead>\n",
              "  <tbody>\n",
              "    <tr>\n",
              "      <th>Custom Model</th>\n",
              "      <td>96.763551</td>\n",
              "      <td>3.236449</td>\n",
              "      <td>0.967676</td>\n",
              "    </tr>\n",
              "    <tr>\n",
              "      <th>VGG_16 Model</th>\n",
              "      <td>95.035350</td>\n",
              "      <td>4.964650</td>\n",
              "      <td>0.950428</td>\n",
              "    </tr>\n",
              "    <tr>\n",
              "      <th>Ensamble Model</th>\n",
              "      <td>96.700707</td>\n",
              "      <td>3.299293</td>\n",
              "      <td>0.967077</td>\n",
              "    </tr>\n",
              "  </tbody>\n",
              "</table>\n",
              "</div>"
            ],
            "text/plain": [
              "                Accuracy (%)  Misclassified (%)  AUC score\n",
              "Custom Model       96.763551           3.236449   0.967676\n",
              "VGG_16 Model       95.035350           4.964650   0.950428\n",
              "Ensamble Model     96.700707           3.299293   0.967077"
            ]
          },
          "metadata": {
            "tags": []
          },
          "execution_count": 99
        }
      ]
    },
    {
      "cell_type": "code",
      "metadata": {
        "id": "tMOzd65s8MJj",
        "colab_type": "code",
        "colab": {}
      },
      "source": [
        ""
      ],
      "execution_count": 0,
      "outputs": []
    }
  ]
}